{
 "cells": [
  {
   "cell_type": "markdown",
   "metadata": {},
   "source": [
    "# Họ tên: Nguyễn Hoàng Linh\n",
    "# MSSV: 1712559"
   ]
  },
  {
   "cell_type": "markdown",
   "metadata": {},
   "source": [
    "## File này được tạo ra với mục đích chính là để tiền xử lý dữ liệu và chọn 1 hướng đi phù hợp để phân tích"
   ]
  },
  {
   "cell_type": "markdown",
   "metadata": {},
   "source": [
    "# Import"
   ]
  },
  {
   "cell_type": "code",
   "execution_count": 3,
   "metadata": {
    "colab": {},
    "colab_type": "code",
    "id": "FprfUxZ9qDK7"
   },
   "outputs": [],
   "source": [
    "import pandas as pd\n",
    "import seaborn as sns\n",
    "import matplotlib.pyplot as plt\n",
    "import numpy as np"
   ]
  },
  {
   "cell_type": "markdown",
   "metadata": {},
   "source": [
    "# Lấy dữ liệu"
   ]
  },
  {
   "cell_type": "markdown",
   "metadata": {},
   "source": [
    "Dữ liệu được dùng trong đồ án này là 'merchants_origin.xlsx' và 'transactions_origin.xlsx'. Đây là dữ liệu về thông tin mua hàng với thẻ thanh toán trực tiếp tại các cửa hàng trên toàn quốc, bao gồm nhiều ngành hàng từ beverage, fnb đến food, csv,... trong giai đoạn từ ngày 31/07/2019 đến 31/08/2019\n",
    "\n",
    "Dữ liệu này được lấy từ tập dữ liệu trong cuộc thi riêng về Machine Learning nên không có public dữ liệu trên kaggle và các nền tảng khác"
   ]
  },
  {
   "cell_type": "markdown",
   "metadata": {},
   "source": [
    "# Khám phá dữ liệu"
   ]
  },
  {
   "cell_type": "markdown",
   "metadata": {},
   "source": [
    "### Đọc dữ liệu vào dataframe"
   ]
  },
  {
   "cell_type": "code",
   "execution_count": 35,
   "metadata": {
    "colab": {},
    "colab_type": "code",
    "id": "dD-jCFzmqDLJ",
    "outputId": "0e58591b-6fc7-4385-9e0f-c8fd76435c2a"
   },
   "outputs": [
    {
     "data": {
      "text/html": [
       "<div>\n",
       "<style scoped>\n",
       "    .dataframe tbody tr th:only-of-type {\n",
       "        vertical-align: middle;\n",
       "    }\n",
       "\n",
       "    .dataframe tbody tr th {\n",
       "        vertical-align: top;\n",
       "    }\n",
       "\n",
       "    .dataframe thead th {\n",
       "        text-align: right;\n",
       "    }\n",
       "</style>\n",
       "<table border=\"1\" class=\"dataframe\">\n",
       "  <thead>\n",
       "    <tr style=\"text-align: right;\">\n",
       "      <th></th>\n",
       "      <th>timestamp</th>\n",
       "      <th>user_id</th>\n",
       "      <th>service_id</th>\n",
       "      <th>store_id</th>\n",
       "      <th>amount</th>\n",
       "    </tr>\n",
       "  </thead>\n",
       "  <tbody>\n",
       "    <tr>\n",
       "      <th>0</th>\n",
       "      <td>1564592753302</td>\n",
       "      <td>8159657106479438377</td>\n",
       "      <td>1331731186241134178</td>\n",
       "      <td>3207118793767876135</td>\n",
       "      <td>85000</td>\n",
       "    </tr>\n",
       "    <tr>\n",
       "      <th>1</th>\n",
       "      <td>1564597378535</td>\n",
       "      <td>2327806852915118533</td>\n",
       "      <td>1564697347935602136</td>\n",
       "      <td>5011561505280801506</td>\n",
       "      <td>996000</td>\n",
       "    </tr>\n",
       "    <tr>\n",
       "      <th>2</th>\n",
       "      <td>1564598671091</td>\n",
       "      <td>6330202370451858563</td>\n",
       "      <td>2836984108500781008</td>\n",
       "      <td>6239691931360727075</td>\n",
       "      <td>190000</td>\n",
       "    </tr>\n",
       "    <tr>\n",
       "      <th>3</th>\n",
       "      <td>1564598946921</td>\n",
       "      <td>4731583744565285737</td>\n",
       "      <td>2836984108500781008</td>\n",
       "      <td>6239691931360727075</td>\n",
       "      <td>961000</td>\n",
       "    </tr>\n",
       "    <tr>\n",
       "      <th>4</th>\n",
       "      <td>1564604696061</td>\n",
       "      <td>3577123636812490249</td>\n",
       "      <td>5251647995811785396</td>\n",
       "      <td>8851448295329400252</td>\n",
       "      <td>1278000</td>\n",
       "    </tr>\n",
       "  </tbody>\n",
       "</table>\n",
       "</div>"
      ],
      "text/plain": [
       "       timestamp              user_id           service_id  \\\n",
       "0  1564592753302  8159657106479438377  1331731186241134178   \n",
       "1  1564597378535  2327806852915118533  1564697347935602136   \n",
       "2  1564598671091  6330202370451858563  2836984108500781008   \n",
       "3  1564598946921  4731583744565285737  2836984108500781008   \n",
       "4  1564604696061  3577123636812490249  5251647995811785396   \n",
       "\n",
       "              store_id   amount  \n",
       "0  3207118793767876135    85000  \n",
       "1  5011561505280801506   996000  \n",
       "2  6239691931360727075   190000  \n",
       "3  6239691931360727075   961000  \n",
       "4  8851448295329400252  1278000  "
      ]
     },
     "execution_count": 35,
     "metadata": {},
     "output_type": "execute_result"
    }
   ],
   "source": [
    "transaction = pd.read_excel(\"data/transactions_origin.xlsx\",encoding = \"utf-8\")\n",
    "transaction.head()"
   ]
  },
  {
   "cell_type": "code",
   "execution_count": 72,
   "metadata": {
    "colab": {},
    "colab_type": "code",
    "id": "_yh5kprHqDLW",
    "outputId": "652dd000-d57d-4f27-c4ed-83b990cf71d5"
   },
   "outputs": [
    {
     "data": {
      "text/html": [
       "<div>\n",
       "<style scoped>\n",
       "    .dataframe tbody tr th:only-of-type {\n",
       "        vertical-align: middle;\n",
       "    }\n",
       "\n",
       "    .dataframe tbody tr th {\n",
       "        vertical-align: top;\n",
       "    }\n",
       "\n",
       "    .dataframe thead th {\n",
       "        text-align: right;\n",
       "    }\n",
       "</style>\n",
       "<table border=\"1\" class=\"dataframe\">\n",
       "  <thead>\n",
       "    <tr style=\"text-align: right;\">\n",
       "      <th></th>\n",
       "      <th>service_id</th>\n",
       "      <th>store_id</th>\n",
       "      <th>service_group</th>\n",
       "      <th>merchant_name</th>\n",
       "      <th>merchant_address</th>\n",
       "      <th>store_name</th>\n",
       "      <th>store_address</th>\n",
       "      <th>store_longitude</th>\n",
       "      <th>store_latitude</th>\n",
       "    </tr>\n",
       "  </thead>\n",
       "  <tbody>\n",
       "    <tr>\n",
       "      <th>0</th>\n",
       "      <td>1058241667815469540</td>\n",
       "      <td>249887925492461203</td>\n",
       "      <td>other offline payment services</td>\n",
       "      <td>CÔNG TY CP TMDV TVTK THỜI TRANG VIỆT</td>\n",
       "      <td>189A Hai Bà Trưng , P.6, Quận 3 TPHCM</td>\n",
       "      <td>Concept Nguyễn Trãi Cần Thơ</td>\n",
       "      <td>41-41A-43 Nguyễn Trãi, Q. Ninh Kiều, Cần Thơ</td>\n",
       "      <td>105.785046</td>\n",
       "      <td>10.040508</td>\n",
       "    </tr>\n",
       "    <tr>\n",
       "      <th>1</th>\n",
       "      <td>1058241667815469540</td>\n",
       "      <td>6272474026035536581</td>\n",
       "      <td>other offline payment services</td>\n",
       "      <td>CÔNG TY CP TMDV TVTK THỜI TRANG VIỆT</td>\n",
       "      <td>189A Hai Bà Trưng , P.6, Quận 3 TPHCM</td>\n",
       "      <td>Concept Hậu Giang</td>\n",
       "      <td>Số 410 Hậu Giang, Phường 12, Quận 6, Tp. HCM</td>\n",
       "      <td>106.638935</td>\n",
       "      <td>10.749251</td>\n",
       "    </tr>\n",
       "    <tr>\n",
       "      <th>2</th>\n",
       "      <td>8073873840719601655</td>\n",
       "      <td>2217087971996193230</td>\n",
       "      <td>beverage</td>\n",
       "      <td>HỘ KINH DOANH - QUÁCH THỊ HƯƠNG DUYÊN</td>\n",
       "      <td>444 Hoàng Văn Thụ, Phường 2, Quận Tân Bình, Th...</td>\n",
       "      <td>Sharetea Hoàng Văn Thụ</td>\n",
       "      <td>444 Hoàng Văn Thụ, Phường 4, Quận Tân Bình, Th...</td>\n",
       "      <td>106.655742</td>\n",
       "      <td>10.795501</td>\n",
       "    </tr>\n",
       "    <tr>\n",
       "      <th>3</th>\n",
       "      <td>1058241667815469540</td>\n",
       "      <td>7296552596579579660</td>\n",
       "      <td>other offline payment services</td>\n",
       "      <td>CÔNG TY CP TMDV TVTK THỜI TRANG VIỆT</td>\n",
       "      <td>189A Hai Bà Trưng , P.6, Quận 3 TPHCM</td>\n",
       "      <td>Concept Cách Mạng tháng 8 HCM</td>\n",
       "      <td>Số 484 - 486 Cách Mạng Tháng Tám, Phường 11, Q...</td>\n",
       "      <td>106.668518</td>\n",
       "      <td>10.784919</td>\n",
       "    </tr>\n",
       "    <tr>\n",
       "      <th>4</th>\n",
       "      <td>1058241667815469540</td>\n",
       "      <td>4707467693322385152</td>\n",
       "      <td>other offline payment services</td>\n",
       "      <td>CÔNG TY CP TMDV TVTK THỜI TRANG VIỆT</td>\n",
       "      <td>189A Hai Bà Trưng , P.6, Quận 3 TPHCM</td>\n",
       "      <td>Concept Vạnh Hạnh Mall</td>\n",
       "      <td>TTTM,Số 11 Sư Vạn Hạnh, Đường 3/2, Phường 12, ...</td>\n",
       "      <td>106.669971</td>\n",
       "      <td>10.769976</td>\n",
       "    </tr>\n",
       "  </tbody>\n",
       "</table>\n",
       "</div>"
      ],
      "text/plain": [
       "            service_id             store_id                   service_group  \\\n",
       "0  1058241667815469540   249887925492461203  other offline payment services   \n",
       "1  1058241667815469540  6272474026035536581  other offline payment services   \n",
       "2  8073873840719601655  2217087971996193230                        beverage   \n",
       "3  1058241667815469540  7296552596579579660  other offline payment services   \n",
       "4  1058241667815469540  4707467693322385152  other offline payment services   \n",
       "\n",
       "                           merchant_name  \\\n",
       "0   CÔNG TY CP TMDV TVTK THỜI TRANG VIỆT   \n",
       "1   CÔNG TY CP TMDV TVTK THỜI TRANG VIỆT   \n",
       "2  HỘ KINH DOANH - QUÁCH THỊ HƯƠNG DUYÊN   \n",
       "3   CÔNG TY CP TMDV TVTK THỜI TRANG VIỆT   \n",
       "4   CÔNG TY CP TMDV TVTK THỜI TRANG VIỆT   \n",
       "\n",
       "                                    merchant_address  \\\n",
       "0              189A Hai Bà Trưng , P.6, Quận 3 TPHCM   \n",
       "1              189A Hai Bà Trưng , P.6, Quận 3 TPHCM   \n",
       "2  444 Hoàng Văn Thụ, Phường 2, Quận Tân Bình, Th...   \n",
       "3              189A Hai Bà Trưng , P.6, Quận 3 TPHCM   \n",
       "4              189A Hai Bà Trưng , P.6, Quận 3 TPHCM   \n",
       "\n",
       "                      store_name  \\\n",
       "0    Concept Nguyễn Trãi Cần Thơ   \n",
       "1              Concept Hậu Giang   \n",
       "2         Sharetea Hoàng Văn Thụ   \n",
       "3  Concept Cách Mạng tháng 8 HCM   \n",
       "4         Concept Vạnh Hạnh Mall   \n",
       "\n",
       "                                       store_address  store_longitude  \\\n",
       "0       41-41A-43 Nguyễn Trãi, Q. Ninh Kiều, Cần Thơ       105.785046   \n",
       "1       Số 410 Hậu Giang, Phường 12, Quận 6, Tp. HCM       106.638935   \n",
       "2  444 Hoàng Văn Thụ, Phường 4, Quận Tân Bình, Th...       106.655742   \n",
       "3  Số 484 - 486 Cách Mạng Tháng Tám, Phường 11, Q...       106.668518   \n",
       "4  TTTM,Số 11 Sư Vạn Hạnh, Đường 3/2, Phường 12, ...       106.669971   \n",
       "\n",
       "   store_latitude  \n",
       "0       10.040508  \n",
       "1       10.749251  \n",
       "2       10.795501  \n",
       "3       10.784919  \n",
       "4       10.769976  "
      ]
     },
     "execution_count": 72,
     "metadata": {},
     "output_type": "execute_result"
    }
   ],
   "source": [
    "data = pd.read_excel(\"data/merchants_origin.xlsx\",encoding = \"utf-8\")\n",
    "data.head()"
   ]
  },
  {
   "cell_type": "markdown",
   "metadata": {},
   "source": [
    "### Dữ liệu có bao nhiêu dòng và cột?"
   ]
  },
  {
   "cell_type": "code",
   "execution_count": 11,
   "metadata": {},
   "outputs": [
    {
     "name": "stdout",
     "output_type": "stream",
     "text": [
      "num_rows_transaction: 1008720\n",
      "num_cols_transaction 5\n"
     ]
    }
   ],
   "source": [
    "num_rows, num_cols = transaction.shape\n",
    "print('num_rows_transaction:', num_rows)\n",
    "print('num_cols_transaction', num_cols)"
   ]
  },
  {
   "cell_type": "code",
   "execution_count": 13,
   "metadata": {},
   "outputs": [
    {
     "name": "stdout",
     "output_type": "stream",
     "text": [
      "num_rows_merchant_info: 2973\n",
      "num_cols_merchant_info 9\n"
     ]
    }
   ],
   "source": [
    "num_rows, num_cols = data.shape\n",
    "print('num_rows_merchant_info:', num_rows)\n",
    "print('num_cols_merchant_info', num_cols)"
   ]
  },
  {
   "cell_type": "markdown",
   "metadata": {},
   "source": [
    "### Mỗi dòng có ý nghĩa gì?"
   ]
  },
  {
   "cell_type": "markdown",
   "metadata": {},
   "source": [
    "+ Mỗi dòng của dữ liệu merchant ứng với thông tin của các cửa hàng trên Việt Nam có sử dụng ví điện tử thanh toán\n",
    "+ Mỗi dòng của dữ liệu transaction ứng với thông tin của khách hàng mua tại cửa hàng theo thời gian với số tiền cụ thể\n",
    "+ 2 dữ liệu được kết nối với nhau qua store_id và service_id"
   ]
  },
  {
   "cell_type": "markdown",
   "metadata": {},
   "source": [
    "### Mỗi cột có ý nghĩa gì?"
   ]
  },
  {
   "cell_type": "markdown",
   "metadata": {},
   "source": [
    "Merchant:\n",
    "+ service_id: Mỗi service_id sẽ tương ứng với một loại cửa hàng nhất định\n",
    "+ store_id  : Mỗi store_id tương ứng với 1 chi nhánh của cửa hàng\n",
    "+ service_group: loại phục vụ (beverage, fnb)\n",
    "+ merchant_name: Tên cửa hàng\n",
    "+ merchant_address: Địa chỉ cửa hàng chính\n",
    "+ store_name: Tên Chi nhánh\n",
    "+ store_address: Địa chỉ chi nhánh\n",
    "+ store_longitude, store_latitude: Kinh độ, Vĩ độ cửa hàng"
   ]
  },
  {
   "cell_type": "markdown",
   "metadata": {},
   "source": [
    "Transaction:\n",
    "+ timestamp: Thời gian thanh toán\n",
    "+ user_id, service_id, store_id : id của người dùng, dịch vụ, cửa hàng, được kết nối với dữ liệu beverage\n",
    "+ amount: Lượng tiền giao dịch"
   ]
  },
  {
   "cell_type": "markdown",
   "metadata": {},
   "source": [
    "### Kiểu dữ liệu mỗi cột?"
   ]
  },
  {
   "cell_type": "code",
   "execution_count": 20,
   "metadata": {},
   "outputs": [
    {
     "data": {
      "text/plain": [
       "service_id            int64\n",
       "store_id              int64\n",
       "service_group        object\n",
       "merchant_name        object\n",
       "merchant_address     object\n",
       "store_name           object\n",
       "store_address        object\n",
       "store_longitude     float64\n",
       "store_latitude      float64\n",
       "dtype: object"
      ]
     },
     "execution_count": 20,
     "metadata": {},
     "output_type": "execute_result"
    }
   ],
   "source": [
    "data.dtypes"
   ]
  },
  {
   "cell_type": "code",
   "execution_count": 15,
   "metadata": {},
   "outputs": [
    {
     "data": {
      "text/plain": [
       "timestamp     int64\n",
       "user_id       int64\n",
       "service_id    int64\n",
       "store_id      int64\n",
       "amount        int64\n",
       "dtype: object"
      ]
     },
     "execution_count": 15,
     "metadata": {},
     "output_type": "execute_result"
    }
   ],
   "source": [
    "transaction.dtypes"
   ]
  },
  {
   "cell_type": "markdown",
   "metadata": {},
   "source": [
    "Nhận xét:\n",
    "+ Cột timestamp có type là object nên sẽ chuyển về dạng datetime"
   ]
  },
  {
   "cell_type": "code",
   "execution_count": 36,
   "metadata": {},
   "outputs": [],
   "source": [
    "transaction.timestamp = pd.to_datetime(transaction.timestamp, unit = \"ms\")"
   ]
  },
  {
   "cell_type": "markdown",
   "metadata": {},
   "source": [
    "### Miền giá trị của các cột dạng Numeric và Datetime"
   ]
  },
  {
   "cell_type": "code",
   "execution_count": 22,
   "metadata": {},
   "outputs": [
    {
     "data": {
      "text/html": [
       "<div>\n",
       "<style scoped>\n",
       "    .dataframe tbody tr th:only-of-type {\n",
       "        vertical-align: middle;\n",
       "    }\n",
       "\n",
       "    .dataframe tbody tr th {\n",
       "        vertical-align: top;\n",
       "    }\n",
       "\n",
       "    .dataframe thead th {\n",
       "        text-align: right;\n",
       "    }\n",
       "</style>\n",
       "<table border=\"1\" class=\"dataframe\">\n",
       "  <thead>\n",
       "    <tr style=\"text-align: right;\">\n",
       "      <th></th>\n",
       "      <th>service_id</th>\n",
       "      <th>store_id</th>\n",
       "      <th>store_longitude</th>\n",
       "      <th>store_latitude</th>\n",
       "    </tr>\n",
       "  </thead>\n",
       "  <tbody>\n",
       "    <tr>\n",
       "      <th>count</th>\n",
       "      <td>2.973000e+03</td>\n",
       "      <td>2.973000e+03</td>\n",
       "      <td>2973.000000</td>\n",
       "      <td>2973.000000</td>\n",
       "    </tr>\n",
       "    <tr>\n",
       "      <th>mean</th>\n",
       "      <td>4.889768e+18</td>\n",
       "      <td>4.672982e+18</td>\n",
       "      <td>106.468063</td>\n",
       "      <td>13.927196</td>\n",
       "    </tr>\n",
       "    <tr>\n",
       "      <th>std</th>\n",
       "      <td>2.653304e+18</td>\n",
       "      <td>2.633505e+18</td>\n",
       "      <td>0.738107</td>\n",
       "      <td>4.957941</td>\n",
       "    </tr>\n",
       "    <tr>\n",
       "      <th>min</th>\n",
       "      <td>4.664854e+15</td>\n",
       "      <td>7.798959e+15</td>\n",
       "      <td>78.656894</td>\n",
       "      <td>9.178577</td>\n",
       "    </tr>\n",
       "    <tr>\n",
       "      <th>25%</th>\n",
       "      <td>2.180188e+18</td>\n",
       "      <td>2.415173e+18</td>\n",
       "      <td>105.849872</td>\n",
       "      <td>10.771504</td>\n",
       "    </tr>\n",
       "    <tr>\n",
       "      <th>50%</th>\n",
       "      <td>4.736618e+18</td>\n",
       "      <td>4.837531e+18</td>\n",
       "      <td>106.669690</td>\n",
       "      <td>10.801908</td>\n",
       "    </tr>\n",
       "    <tr>\n",
       "      <th>75%</th>\n",
       "      <td>7.241075e+18</td>\n",
       "      <td>6.912396e+18</td>\n",
       "      <td>106.700489</td>\n",
       "      <td>20.997706</td>\n",
       "    </tr>\n",
       "    <tr>\n",
       "      <th>max</th>\n",
       "      <td>9.208971e+18</td>\n",
       "      <td>9.223304e+18</td>\n",
       "      <td>113.866120</td>\n",
       "      <td>106.703569</td>\n",
       "    </tr>\n",
       "  </tbody>\n",
       "</table>\n",
       "</div>"
      ],
      "text/plain": [
       "         service_id      store_id  store_longitude  store_latitude\n",
       "count  2.973000e+03  2.973000e+03      2973.000000     2973.000000\n",
       "mean   4.889768e+18  4.672982e+18       106.468063       13.927196\n",
       "std    2.653304e+18  2.633505e+18         0.738107        4.957941\n",
       "min    4.664854e+15  7.798959e+15        78.656894        9.178577\n",
       "25%    2.180188e+18  2.415173e+18       105.849872       10.771504\n",
       "50%    4.736618e+18  4.837531e+18       106.669690       10.801908\n",
       "75%    7.241075e+18  6.912396e+18       106.700489       20.997706\n",
       "max    9.208971e+18  9.223304e+18       113.866120      106.703569"
      ]
     },
     "execution_count": 22,
     "metadata": {},
     "output_type": "execute_result"
    }
   ],
   "source": [
    "data.describe()"
   ]
  },
  {
   "cell_type": "code",
   "execution_count": 30,
   "metadata": {},
   "outputs": [
    {
     "data": {
      "text/html": [
       "<div>\n",
       "<style scoped>\n",
       "    .dataframe tbody tr th:only-of-type {\n",
       "        vertical-align: middle;\n",
       "    }\n",
       "\n",
       "    .dataframe tbody tr th {\n",
       "        vertical-align: top;\n",
       "    }\n",
       "\n",
       "    .dataframe thead th {\n",
       "        text-align: right;\n",
       "    }\n",
       "</style>\n",
       "<table border=\"1\" class=\"dataframe\">\n",
       "  <thead>\n",
       "    <tr style=\"text-align: right;\">\n",
       "      <th></th>\n",
       "      <th>user_id</th>\n",
       "      <th>service_id</th>\n",
       "      <th>store_id</th>\n",
       "      <th>amount</th>\n",
       "    </tr>\n",
       "  </thead>\n",
       "  <tbody>\n",
       "    <tr>\n",
       "      <th>count</th>\n",
       "      <td>1.008720e+06</td>\n",
       "      <td>1.008720e+06</td>\n",
       "      <td>1.008720e+06</td>\n",
       "      <td>1.008720e+06</td>\n",
       "    </tr>\n",
       "    <tr>\n",
       "      <th>mean</th>\n",
       "      <td>4.605686e+18</td>\n",
       "      <td>5.374688e+18</td>\n",
       "      <td>4.416860e+18</td>\n",
       "      <td>2.651468e+05</td>\n",
       "    </tr>\n",
       "    <tr>\n",
       "      <th>std</th>\n",
       "      <td>2.659094e+18</td>\n",
       "      <td>2.530739e+18</td>\n",
       "      <td>2.524191e+18</td>\n",
       "      <td>5.127195e+05</td>\n",
       "    </tr>\n",
       "    <tr>\n",
       "      <th>min</th>\n",
       "      <td>1.002355e+13</td>\n",
       "      <td>4.664854e+15</td>\n",
       "      <td>6.214594e+15</td>\n",
       "      <td>0.000000e+00</td>\n",
       "    </tr>\n",
       "    <tr>\n",
       "      <th>25%</th>\n",
       "      <td>2.301039e+18</td>\n",
       "      <td>3.398612e+18</td>\n",
       "      <td>1.747737e+18</td>\n",
       "      <td>3.600000e+04</td>\n",
       "    </tr>\n",
       "    <tr>\n",
       "      <th>50%</th>\n",
       "      <td>4.592490e+18</td>\n",
       "      <td>6.683160e+18</td>\n",
       "      <td>3.994338e+18</td>\n",
       "      <td>8.900000e+04</td>\n",
       "    </tr>\n",
       "    <tr>\n",
       "      <th>75%</th>\n",
       "      <td>6.902125e+18</td>\n",
       "      <td>7.341551e+18</td>\n",
       "      <td>7.022304e+18</td>\n",
       "      <td>2.410000e+05</td>\n",
       "    </tr>\n",
       "    <tr>\n",
       "      <th>max</th>\n",
       "      <td>9.223308e+18</td>\n",
       "      <td>9.208971e+18</td>\n",
       "      <td>9.223304e+18</td>\n",
       "      <td>1.923900e+07</td>\n",
       "    </tr>\n",
       "  </tbody>\n",
       "</table>\n",
       "</div>"
      ],
      "text/plain": [
       "            user_id    service_id      store_id        amount\n",
       "count  1.008720e+06  1.008720e+06  1.008720e+06  1.008720e+06\n",
       "mean   4.605686e+18  5.374688e+18  4.416860e+18  2.651468e+05\n",
       "std    2.659094e+18  2.530739e+18  2.524191e+18  5.127195e+05\n",
       "min    1.002355e+13  4.664854e+15  6.214594e+15  0.000000e+00\n",
       "25%    2.301039e+18  3.398612e+18  1.747737e+18  3.600000e+04\n",
       "50%    4.592490e+18  6.683160e+18  3.994338e+18  8.900000e+04\n",
       "75%    6.902125e+18  7.341551e+18  7.022304e+18  2.410000e+05\n",
       "max    9.223308e+18  9.208971e+18  9.223304e+18  1.923900e+07"
      ]
     },
     "execution_count": 30,
     "metadata": {},
     "output_type": "execute_result"
    }
   ],
   "source": [
    "transaction.describe()"
   ]
  },
  {
   "cell_type": "code",
   "execution_count": 37,
   "metadata": {},
   "outputs": [
    {
     "name": "stdout",
     "output_type": "stream",
     "text": [
      "2019-07-31 17:00:39.618000 2019-08-31 16:59:50.465000\n"
     ]
    }
   ],
   "source": [
    "print(transaction.timestamp.min(), transaction.timestamp.max())"
   ]
  },
  {
   "cell_type": "markdown",
   "metadata": {},
   "source": [
    "# Tiền xử lý dữ liệu"
   ]
  },
  {
   "cell_type": "markdown",
   "metadata": {},
   "source": [
    "### Giá trị Null"
   ]
  },
  {
   "cell_type": "code",
   "execution_count": 38,
   "metadata": {},
   "outputs": [
    {
     "data": {
      "text/plain": [
       "service_id            0\n",
       "store_id              0\n",
       "service_group       199\n",
       "merchant_name         0\n",
       "merchant_address      1\n",
       "store_name            0\n",
       "store_address         0\n",
       "store_longitude       0\n",
       "store_latitude        0\n",
       "dtype: int64"
      ]
     },
     "execution_count": 38,
     "metadata": {},
     "output_type": "execute_result"
    }
   ],
   "source": [
    "data.isna().sum()"
   ]
  },
  {
   "cell_type": "code",
   "execution_count": 39,
   "metadata": {},
   "outputs": [
    {
     "data": {
      "text/plain": [
       "timestamp     0\n",
       "user_id       0\n",
       "service_id    0\n",
       "store_id      0\n",
       "amount        0\n",
       "dtype: int64"
      ]
     },
     "execution_count": 39,
     "metadata": {},
     "output_type": "execute_result"
    }
   ],
   "source": [
    "transaction.isna().sum()"
   ]
  },
  {
   "cell_type": "code",
   "execution_count": 43,
   "metadata": {},
   "outputs": [
    {
     "data": {
      "text/html": [
       "<div>\n",
       "<style scoped>\n",
       "    .dataframe tbody tr th:only-of-type {\n",
       "        vertical-align: middle;\n",
       "    }\n",
       "\n",
       "    .dataframe tbody tr th {\n",
       "        vertical-align: top;\n",
       "    }\n",
       "\n",
       "    .dataframe thead th {\n",
       "        text-align: right;\n",
       "    }\n",
       "</style>\n",
       "<table border=\"1\" class=\"dataframe\">\n",
       "  <thead>\n",
       "    <tr style=\"text-align: right;\">\n",
       "      <th></th>\n",
       "      <th>service_id</th>\n",
       "      <th>store_id</th>\n",
       "      <th>service_group</th>\n",
       "      <th>merchant_name</th>\n",
       "      <th>merchant_address</th>\n",
       "      <th>store_name</th>\n",
       "      <th>store_address</th>\n",
       "      <th>store_longitude</th>\n",
       "      <th>store_latitude</th>\n",
       "    </tr>\n",
       "  </thead>\n",
       "  <tbody>\n",
       "    <tr>\n",
       "      <th>10</th>\n",
       "      <td>8203460032407458181</td>\n",
       "      <td>3699924941261806407</td>\n",
       "      <td>NaN</td>\n",
       "      <td>CÔNG TY TNHH ĐẦU TƯ VÀ PHÁT TRIỂN BẦU TRỜI XANH</td>\n",
       "      <td>124 Đường Trần Não, Khu phố 2, phường Bình An,...</td>\n",
       "      <td>3Sạch Tresor</td>\n",
       "      <td>39-39B Bến Vân Đồn, Phường 12, Quận 4, Thành P...</td>\n",
       "      <td>106.703402</td>\n",
       "      <td>10.766887</td>\n",
       "    </tr>\n",
       "    <tr>\n",
       "      <th>14</th>\n",
       "      <td>8203460032407458181</td>\n",
       "      <td>5560552259059895242</td>\n",
       "      <td>NaN</td>\n",
       "      <td>CÔNG TY TNHH ĐẦU TƯ VÀ PHÁT TRIỂN BẦU TRỜI XANH</td>\n",
       "      <td>124 Đường Trần Não, Khu phố 2, phường Bình An,...</td>\n",
       "      <td>3Sạch Vinhomes Park 1</td>\n",
       "      <td>720A Điện Biên Phủ, Phường 22, Quận Bình Thạnh...</td>\n",
       "      <td>106.722098</td>\n",
       "      <td>10.791140</td>\n",
       "    </tr>\n",
       "    <tr>\n",
       "      <th>19</th>\n",
       "      <td>6573947514783036540</td>\n",
       "      <td>2924007050849236074</td>\n",
       "      <td>NaN</td>\n",
       "      <td>Công Ty CP Những Hạt Cà Phê Nói Chuyện</td>\n",
       "      <td>29 ngõ 93 phố Vũ Hữu  Khuất Duy Tiến, Phường T...</td>\n",
       "      <td>TWTTER BEANS COFFEE HOLA</td>\n",
       "      <td>Khu DV04 khu CNC Láng Hòa Lạc, Xã Thạch Hoà, H...</td>\n",
       "      <td>105.531082</td>\n",
       "      <td>21.007833</td>\n",
       "    </tr>\n",
       "    <tr>\n",
       "      <th>28</th>\n",
       "      <td>6573947514783036540</td>\n",
       "      <td>6612695632743857561</td>\n",
       "      <td>NaN</td>\n",
       "      <td>Công Ty CP Những Hạt Cà Phê Nói Chuyện</td>\n",
       "      <td>29 ngõ 93 phố Vũ Hữu  Khuất Duy Tiến, Phường T...</td>\n",
       "      <td>TWTTER BEANS COFFEE MĐI1</td>\n",
       "      <td>Tầng 1, tòa nhà Golden Field 24 Nguyễn Cơ Thạc...</td>\n",
       "      <td>105.765708</td>\n",
       "      <td>21.035161</td>\n",
       "    </tr>\n",
       "    <tr>\n",
       "      <th>41</th>\n",
       "      <td>6573947514783036540</td>\n",
       "      <td>4540151790580534769</td>\n",
       "      <td>NaN</td>\n",
       "      <td>Công Ty CP Những Hạt Cà Phê Nói Chuyện</td>\n",
       "      <td>29 ngõ 93 phố Vũ Hữu  Khuất Duy Tiến, Phường T...</td>\n",
       "      <td>TWTTER BEANS COFFEE ANBI</td>\n",
       "      <td>Tầng 1, Tòa A5, An Bình City, 234 Phạm Văn Đồn...</td>\n",
       "      <td>105.778327</td>\n",
       "      <td>21.050210</td>\n",
       "    </tr>\n",
       "  </tbody>\n",
       "</table>\n",
       "</div>"
      ],
      "text/plain": [
       "             service_id             store_id service_group  \\\n",
       "10  8203460032407458181  3699924941261806407           NaN   \n",
       "14  8203460032407458181  5560552259059895242           NaN   \n",
       "19  6573947514783036540  2924007050849236074           NaN   \n",
       "28  6573947514783036540  6612695632743857561           NaN   \n",
       "41  6573947514783036540  4540151790580534769           NaN   \n",
       "\n",
       "                                      merchant_name  \\\n",
       "10  CÔNG TY TNHH ĐẦU TƯ VÀ PHÁT TRIỂN BẦU TRỜI XANH   \n",
       "14  CÔNG TY TNHH ĐẦU TƯ VÀ PHÁT TRIỂN BẦU TRỜI XANH   \n",
       "19           Công Ty CP Những Hạt Cà Phê Nói Chuyện   \n",
       "28           Công Ty CP Những Hạt Cà Phê Nói Chuyện   \n",
       "41           Công Ty CP Những Hạt Cà Phê Nói Chuyện   \n",
       "\n",
       "                                     merchant_address  \\\n",
       "10  124 Đường Trần Não, Khu phố 2, phường Bình An,...   \n",
       "14  124 Đường Trần Não, Khu phố 2, phường Bình An,...   \n",
       "19  29 ngõ 93 phố Vũ Hữu  Khuất Duy Tiến, Phường T...   \n",
       "28  29 ngõ 93 phố Vũ Hữu  Khuất Duy Tiến, Phường T...   \n",
       "41  29 ngõ 93 phố Vũ Hữu  Khuất Duy Tiến, Phường T...   \n",
       "\n",
       "                  store_name  \\\n",
       "10              3Sạch Tresor   \n",
       "14     3Sạch Vinhomes Park 1   \n",
       "19  TWTTER BEANS COFFEE HOLA   \n",
       "28  TWTTER BEANS COFFEE MĐI1   \n",
       "41  TWTTER BEANS COFFEE ANBI   \n",
       "\n",
       "                                        store_address  store_longitude  \\\n",
       "10  39-39B Bến Vân Đồn, Phường 12, Quận 4, Thành P...       106.703402   \n",
       "14  720A Điện Biên Phủ, Phường 22, Quận Bình Thạnh...       106.722098   \n",
       "19  Khu DV04 khu CNC Láng Hòa Lạc, Xã Thạch Hoà, H...       105.531082   \n",
       "28  Tầng 1, tòa nhà Golden Field 24 Nguyễn Cơ Thạc...       105.765708   \n",
       "41  Tầng 1, Tòa A5, An Bình City, 234 Phạm Văn Đồn...       105.778327   \n",
       "\n",
       "    store_latitude  \n",
       "10       10.766887  \n",
       "14       10.791140  \n",
       "19       21.007833  \n",
       "28       21.035161  \n",
       "41       21.050210  "
      ]
     },
     "execution_count": 43,
     "metadata": {},
     "output_type": "execute_result"
    }
   ],
   "source": [
    "data[data.service_group.isnull()].head()"
   ]
  },
  {
   "cell_type": "markdown",
   "metadata": {},
   "source": [
    "Những giá trị bị thiếu có thể do cửa chưa đăng ký tên dịch vụ hoặc trong quá trình ghi nhận dữ liệu có vấn đề. Vì số dữ liệu bị thiếu ít nên ta sẽ thêm bằng tay (hand-craft)"
   ]
  },
  {
   "cell_type": "markdown",
   "metadata": {},
   "source": [
    "### Dữ liệu Outlier"
   ]
  },
  {
   "cell_type": "code",
   "execution_count": 64,
   "metadata": {},
   "outputs": [
    {
     "data": {
      "text/plain": [
       "<matplotlib.axes._subplots.AxesSubplot at 0x1f40adafd90>"
      ]
     },
     "execution_count": 64,
     "metadata": {},
     "output_type": "execute_result"
    },
    {
     "data": {
      "image/png": "[encoded data removed]",
      "text/plain": [
       "<Figure size 432x288 with 1 Axes>"
      ]
     },
     "metadata": {
      "needs_background": "light"
     },
     "output_type": "display_data"
    }
   ],
   "source": [
    "sns.boxplot(y=\"amount\", data=transaction,orient=\"h\")"
   ]
  },
  {
   "cell_type": "markdown",
   "metadata": {},
   "source": [
    "Nhìn qua biểu đồ, ta thấy rằng dữ liệu amount > 12.5 triệu có vấn đề nên ta sẽ xoá dữ liệu đó đi"
   ]
  },
  {
   "cell_type": "code",
   "execution_count": 65,
   "metadata": {},
   "outputs": [],
   "source": [
    "transaction.drop(transaction[transaction.amount > 12500000].index, inplace = True)"
   ]
  },
  {
   "cell_type": "code",
   "execution_count": 67,
   "metadata": {
    "scrolled": true
   },
   "outputs": [
    {
     "data": {
      "text/plain": [
       "<matplotlib.axes._subplots.AxesSubplot at 0x1f40aefc130>"
      ]
     },
     "execution_count": 67,
     "metadata": {},
     "output_type": "execute_result"
    },
    {
     "data": {
      "image/png": "[encoded data removed]",
      "text/plain": [
       "<Figure size 432x288 with 1 Axes>"
      ]
     },
     "metadata": {
      "needs_background": "light"
     },
     "output_type": "display_data"
    }
   ],
   "source": [
    "sns.boxplot(y=\"store_longitude\", data=data,orient=\"h\")"
   ]
  },
  {
   "cell_type": "code",
   "execution_count": 68,
   "metadata": {},
   "outputs": [
    {
     "data": {
      "text/plain": [
       "<matplotlib.axes._subplots.AxesSubplot at 0x1f47d005be0>"
      ]
     },
     "execution_count": 68,
     "metadata": {},
     "output_type": "execute_result"
    },
    {
     "data": {
      "image/png": "[encoded data removed]",
      "text/plain": [
       "<Figure size 432x288 with 1 Axes>"
      ]
     },
     "metadata": {
      "needs_background": "light"
     },
     "output_type": "display_data"
    }
   ],
   "source": [
    "sns.boxplot(y=\"store_latitude\", data=data,orient=\"h\")"
   ]
  },
  {
   "cell_type": "markdown",
   "metadata": {},
   "source": [
    "Tương tự đối với longitude và latitude. Và tất nhiên theo địa lý Việt Nam, ta sẽ chỉ chọn toạ độ từ (106.550, 10.68) đến (106.85, 10.9)"
   ]
  },
  {
   "cell_type": "code",
   "execution_count": 73,
   "metadata": {},
   "outputs": [],
   "source": [
    "data.drop(data[data.store_longitude < 106.550].index, inplace = True)\n",
    "data.drop(data[data.store_longitude > 106.85].index, inplace = True)\n",
    "data.drop(data[data.store_latitude < 10.68].index, inplace = True)\n",
    "data.drop(data[data.store_latitude > 10.9].index, inplace = True)"
   ]
  },
  {
   "cell_type": "markdown",
   "metadata": {},
   "source": [
    "## Tiếp theo, ta đến bước lựa chọn dữ liệu để phân tích"
   ]
  },
  {
   "cell_type": "code",
   "execution_count": 78,
   "metadata": {},
   "outputs": [
    {
     "data": {
      "text/plain": [
       "array(['other offline payment services', 'beverage', nan, 'food', 'fnb',\n",
       "       'shopping', 'cvs', 'supermarket'], dtype=object)"
      ]
     },
     "execution_count": 78,
     "metadata": {},
     "output_type": "execute_result"
    }
   ],
   "source": [
    "data.service_group.unique()"
   ]
  },
  {
   "cell_type": "markdown",
   "metadata": {},
   "source": [
    "Ta thấy rằng có 6 ngành hàng chính: beverage, food, fnb, shopping, cvs, supermarket. Những dữ liệu other offline payment services và giá trị null sẽ được thêm sau qua việc xử lý tay\n",
    "+ Và tất nhiên, mục đích chính của ta là xem và theo dõi ngành hàng nào phổ biến nhất để từ đó có thể phân tích dữ liệu riêng biệt cho ngành đó"
   ]
  },
  {
   "cell_type": "code",
   "execution_count": 0,
   "metadata": {
    "colab": {},
    "colab_type": "code",
    "id": "inGqEvRcqDL-",
    "outputId": "44204164-c2fc-4111-e7c4-a7bc57ffcc63"
   },
   "outputs": [
    {
     "data": {
      "text/html": [
       "<div>\n",
       "<style scoped>\n",
       "    .dataframe tbody tr th:only-of-type {\n",
       "        vertical-align: middle;\n",
       "    }\n",
       "\n",
       "    .dataframe tbody tr th {\n",
       "        vertical-align: top;\n",
       "    }\n",
       "\n",
       "    .dataframe thead th {\n",
       "        text-align: right;\n",
       "    }\n",
       "</style>\n",
       "<table border=\"1\" class=\"dataframe\">\n",
       "  <thead>\n",
       "    <tr style=\"text-align: right;\">\n",
       "      <th></th>\n",
       "      <th>timestamp</th>\n",
       "      <th>user_id</th>\n",
       "      <th>service_id</th>\n",
       "      <th>store_id</th>\n",
       "      <th>amount</th>\n",
       "    </tr>\n",
       "    <tr>\n",
       "      <th>service_group</th>\n",
       "      <th></th>\n",
       "      <th></th>\n",
       "      <th></th>\n",
       "      <th></th>\n",
       "      <th></th>\n",
       "    </tr>\n",
       "  </thead>\n",
       "  <tbody>\n",
       "    <tr>\n",
       "      <td>fnb</td>\n",
       "      <td>304773</td>\n",
       "      <td>304773</td>\n",
       "      <td>304773</td>\n",
       "      <td>304773</td>\n",
       "      <td>304773</td>\n",
       "    </tr>\n",
       "    <tr>\n",
       "      <td>cvs</td>\n",
       "      <td>290361</td>\n",
       "      <td>290361</td>\n",
       "      <td>290361</td>\n",
       "      <td>290361</td>\n",
       "      <td>290361</td>\n",
       "    </tr>\n",
       "    <tr>\n",
       "      <td>beverage</td>\n",
       "      <td>187745</td>\n",
       "      <td>187745</td>\n",
       "      <td>187745</td>\n",
       "      <td>187745</td>\n",
       "      <td>187745</td>\n",
       "    </tr>\n",
       "    <tr>\n",
       "      <td>food</td>\n",
       "      <td>74114</td>\n",
       "      <td>74114</td>\n",
       "      <td>74114</td>\n",
       "      <td>74114</td>\n",
       "      <td>74114</td>\n",
       "    </tr>\n",
       "    <tr>\n",
       "      <td>supermarket</td>\n",
       "      <td>45774</td>\n",
       "      <td>45774</td>\n",
       "      <td>45774</td>\n",
       "      <td>45774</td>\n",
       "      <td>45774</td>\n",
       "    </tr>\n",
       "    <tr>\n",
       "      <td>other</td>\n",
       "      <td>22988</td>\n",
       "      <td>22988</td>\n",
       "      <td>22988</td>\n",
       "      <td>22988</td>\n",
       "      <td>22988</td>\n",
       "    </tr>\n",
       "    <tr>\n",
       "      <td>shopping</td>\n",
       "      <td>7027</td>\n",
       "      <td>7027</td>\n",
       "      <td>7027</td>\n",
       "      <td>7027</td>\n",
       "      <td>7027</td>\n",
       "    </tr>\n",
       "  </tbody>\n",
       "</table>\n",
       "</div>"
      ],
      "text/plain": [
       "               timestamp  user_id  service_id  store_id  amount\n",
       "service_group                                                  \n",
       "fnb               304773   304773      304773    304773  304773\n",
       "cvs               290361   290361      290361    290361  290361\n",
       "beverage          187745   187745      187745    187745  187745\n",
       "food               74114    74114       74114     74114   74114\n",
       "supermarket        45774    45774       45774     45774   45774\n",
       "other              22988    22988       22988     22988   22988\n",
       "shopping            7027     7027        7027      7027    7027"
      ]
     },
     "execution_count": 20,
     "metadata": {
      "tags": []
     },
     "output_type": "execute_result"
    }
   ],
   "source": [
    "plot_data = transaction.groupby(\"service_group\").count()\n",
    "plot_data.sort_values(by=[\"amount\"],inplace = True,ascending = False)\n",
    "plot_data"
   ]
  },
  {
   "cell_type": "code",
   "execution_count": 0,
   "metadata": {
    "colab": {},
    "colab_type": "code",
    "id": "R0TyLfQdqDMI",
    "outputId": "ca4e35de-cb64-46b1-a86b-87efa6732dd7"
   },
   "outputs": [
    {
     "data": {
      "text/html": [
       "<div>\n",
       "<style scoped>\n",
       "    .dataframe tbody tr th:only-of-type {\n",
       "        vertical-align: middle;\n",
       "    }\n",
       "\n",
       "    .dataframe tbody tr th {\n",
       "        vertical-align: top;\n",
       "    }\n",
       "\n",
       "    .dataframe thead th {\n",
       "        text-align: right;\n",
       "    }\n",
       "</style>\n",
       "<table border=\"1\" class=\"dataframe\">\n",
       "  <thead>\n",
       "    <tr style=\"text-align: right;\">\n",
       "      <th></th>\n",
       "      <th>timestamp</th>\n",
       "      <th>user_id</th>\n",
       "      <th>service_id</th>\n",
       "      <th>store_id</th>\n",
       "      <th>amount</th>\n",
       "    </tr>\n",
       "    <tr>\n",
       "      <th>service_group</th>\n",
       "      <th></th>\n",
       "      <th></th>\n",
       "      <th></th>\n",
       "      <th></th>\n",
       "      <th></th>\n",
       "    </tr>\n",
       "  </thead>\n",
       "  <tbody>\n",
       "    <tr>\n",
       "      <td>fnb</td>\n",
       "      <td>304773</td>\n",
       "      <td>304773</td>\n",
       "      <td>304773</td>\n",
       "      <td>304773</td>\n",
       "      <td>304773</td>\n",
       "    </tr>\n",
       "    <tr>\n",
       "      <td>beverage</td>\n",
       "      <td>187745</td>\n",
       "      <td>187745</td>\n",
       "      <td>187745</td>\n",
       "      <td>187745</td>\n",
       "      <td>187745</td>\n",
       "    </tr>\n",
       "    <tr>\n",
       "      <td>cvs</td>\n",
       "      <td>290361</td>\n",
       "      <td>290361</td>\n",
       "      <td>290361</td>\n",
       "      <td>290361</td>\n",
       "      <td>290361</td>\n",
       "    </tr>\n",
       "    <tr>\n",
       "      <td>food</td>\n",
       "      <td>74114</td>\n",
       "      <td>74114</td>\n",
       "      <td>74114</td>\n",
       "      <td>74114</td>\n",
       "      <td>74114</td>\n",
       "    </tr>\n",
       "    <tr>\n",
       "      <td>supermarket</td>\n",
       "      <td>45774</td>\n",
       "      <td>45774</td>\n",
       "      <td>45774</td>\n",
       "      <td>45774</td>\n",
       "      <td>45774</td>\n",
       "    </tr>\n",
       "    <tr>\n",
       "      <td>other</td>\n",
       "      <td>22988</td>\n",
       "      <td>22988</td>\n",
       "      <td>22988</td>\n",
       "      <td>22988</td>\n",
       "      <td>22988</td>\n",
       "    </tr>\n",
       "    <tr>\n",
       "      <td>shopping</td>\n",
       "      <td>7027</td>\n",
       "      <td>7027</td>\n",
       "      <td>7027</td>\n",
       "      <td>7027</td>\n",
       "      <td>7027</td>\n",
       "    </tr>\n",
       "  </tbody>\n",
       "</table>\n",
       "</div>"
      ],
      "text/plain": [
       "               timestamp  user_id  service_id  store_id  amount\n",
       "service_group                                                  \n",
       "fnb               304773   304773      304773    304773  304773\n",
       "beverage          187745   187745      187745    187745  187745\n",
       "cvs               290361   290361      290361    290361  290361\n",
       "food               74114    74114       74114     74114   74114\n",
       "supermarket        45774    45774       45774     45774   45774\n",
       "other              22988    22988       22988     22988   22988\n",
       "shopping            7027     7027        7027      7027    7027"
      ]
     },
     "execution_count": 21,
     "metadata": {
      "tags": []
     },
     "output_type": "execute_result"
    }
   ],
   "source": [
    "temp = plot_data.values[2].copy()\n",
    "plot_data.values[2] = plot_data.values[1]\n",
    "plot_data.values[1] = temp\n",
    "plot_data.index.values[1]= \"beverage\"\n",
    "plot_data.index.values[2]= \"cvs\"\n",
    "plot_data"
   ]
  },
  {
   "cell_type": "code",
   "execution_count": 0,
   "metadata": {
    "colab": {},
    "colab_type": "code",
    "id": "ebRVWaDmqDMR",
    "outputId": "6ee5c129-57b3-4a56-c31e-4e895a73dc5a"
   },
   "outputs": [
    {
     "data": {
      "image/png": "[encoded data removed]",
      "text/plain": [
       "<Figure size 504x504 with 1 Axes>"
      ]
     },
     "metadata": {
      "tags": []
     },
     "output_type": "display_data"
    }
   ],
   "source": [
    "explode = (0.1, 0.1, 0, 0, 0, 0, 0)  \n",
    "fig1, ax1 = plt.subplots(figsize = (7,7))\n",
    "ax1.pie(plot_data.amount, explode=explode, labels=plot_data.index,textprops={'fontsize': 16, 'fontname':'Arial'},\n",
    "        shadow=True, startangle=0)\n",
    "# Equal aspect ratio ensures that pie is drawn as a circle\n",
    "ax1.axis('equal')  \n",
    "plt.tight_layout()\n",
    "fig1.set_facecolor('white')\n",
    "ax1.grid(False)\n",
    "plt.style.use('ggplot')\n",
    "plt.title(\"Percentage of transaction\", fontdict = {'fontsize': 25,'fontweight': 'bold','verticalalignment': 'baseline',\n",
    "                                                  'horizontalalignment':\"center\",'verticalalignment':\"top\"})\n",
    "plt.show()"
   ]
  },
  {
   "cell_type": "markdown",
   "metadata": {},
   "source": [
    "Tại đây, ta thấy rằng beverage và fnb chiếm hơn 50% tổng số giao dịch (Transaction) trong tất cả các ngành hàng. Và tất nhiên giả thuyết đầu tiên của ta là ngành beverage và fnb phổ biến nhất trong tất cả, do đó, để thuyết phục hơn ta sẽ xem xét đến timeline của từng ngành hàng và tình hình giao dịch như thế nào"
   ]
  },
  {
   "cell_type": "markdown",
   "metadata": {},
   "source": [
    "### Xem xét từng ngành hàng theo thời gian"
   ]
  },
  {
   "cell_type": "code",
   "execution_count": 0,
   "metadata": {
    "colab": {},
    "colab_type": "code",
    "id": "Rl3bH-dxqDMm",
    "outputId": "bcf0b77d-327e-41fe-ad33-d696c091e961"
   },
   "outputs": [
    {
     "data": {
      "text/html": [
       "<div>\n",
       "<style scoped>\n",
       "    .dataframe tbody tr th:only-of-type {\n",
       "        vertical-align: middle;\n",
       "    }\n",
       "\n",
       "    .dataframe tbody tr th {\n",
       "        vertical-align: top;\n",
       "    }\n",
       "\n",
       "    .dataframe thead th {\n",
       "        text-align: right;\n",
       "    }\n",
       "</style>\n",
       "<table border=\"1\" class=\"dataframe\">\n",
       "  <thead>\n",
       "    <tr style=\"text-align: right;\">\n",
       "      <th></th>\n",
       "      <th>timestamp</th>\n",
       "      <th>user_id</th>\n",
       "      <th>service_id</th>\n",
       "      <th>store_id</th>\n",
       "      <th>amount</th>\n",
       "      <th>service_group</th>\n",
       "    </tr>\n",
       "  </thead>\n",
       "  <tbody>\n",
       "    <tr>\n",
       "      <td>486868</td>\n",
       "      <td>2019-07-31 17:00:39.618</td>\n",
       "      <td>6999581588594699050</td>\n",
       "      <td>7241075282237721387</td>\n",
       "      <td>1712443322607324267</td>\n",
       "      <td>140000</td>\n",
       "      <td>cvs</td>\n",
       "    </tr>\n",
       "    <tr>\n",
       "      <td>17847</td>\n",
       "      <td>2019-07-31 17:00:39.618</td>\n",
       "      <td>7293786319251451286</td>\n",
       "      <td>2976045368419517725</td>\n",
       "      <td>4233306449914465238</td>\n",
       "      <td>215000</td>\n",
       "      <td>food</td>\n",
       "    </tr>\n",
       "    <tr>\n",
       "      <td>656801</td>\n",
       "      <td>2019-07-31 17:00:45.023</td>\n",
       "      <td>4320011930735144769</td>\n",
       "      <td>7241075282237721387</td>\n",
       "      <td>1712443322607324267</td>\n",
       "      <td>10000</td>\n",
       "      <td>cvs</td>\n",
       "    </tr>\n",
       "    <tr>\n",
       "      <td>892511</td>\n",
       "      <td>2019-07-31 17:00:45.023</td>\n",
       "      <td>1348116226867379701</td>\n",
       "      <td>5118073894352076666</td>\n",
       "      <td>4478031251223671327</td>\n",
       "      <td>46000</td>\n",
       "      <td>fnb</td>\n",
       "    </tr>\n",
       "    <tr>\n",
       "      <td>337481</td>\n",
       "      <td>2019-07-31 17:00:45.023</td>\n",
       "      <td>3915875167744147029</td>\n",
       "      <td>4730332944869925968</td>\n",
       "      <td>9016913884991478105</td>\n",
       "      <td>117000</td>\n",
       "      <td>beverage</td>\n",
       "    </tr>\n",
       "    <tr>\n",
       "      <td>...</td>\n",
       "      <td>...</td>\n",
       "      <td>...</td>\n",
       "      <td>...</td>\n",
       "      <td>...</td>\n",
       "      <td>...</td>\n",
       "      <td>...</td>\n",
       "    </tr>\n",
       "    <tr>\n",
       "      <td>676071</td>\n",
       "      <td>2019-08-31 16:58:47.262</td>\n",
       "      <td>7151211157479363488</td>\n",
       "      <td>7549210150399079702</td>\n",
       "      <td>3181081454660562065</td>\n",
       "      <td>31000</td>\n",
       "      <td>fnb</td>\n",
       "    </tr>\n",
       "    <tr>\n",
       "      <td>814380</td>\n",
       "      <td>2019-08-31 16:58:47.262</td>\n",
       "      <td>8225380512973076942</td>\n",
       "      <td>7435641053063427914</td>\n",
       "      <td>3381320566892266107</td>\n",
       "      <td>27000</td>\n",
       "      <td>cvs</td>\n",
       "    </tr>\n",
       "    <tr>\n",
       "      <td>687038</td>\n",
       "      <td>2019-08-31 16:59:40.088</td>\n",
       "      <td>2050835819433442914</td>\n",
       "      <td>7241075282237721387</td>\n",
       "      <td>1712443322607324267</td>\n",
       "      <td>20000</td>\n",
       "      <td>cvs</td>\n",
       "    </tr>\n",
       "    <tr>\n",
       "      <td>952723</td>\n",
       "      <td>2019-08-31 16:59:41.480</td>\n",
       "      <td>967483949277839142</td>\n",
       "      <td>7435641053063427914</td>\n",
       "      <td>3381320566892266107</td>\n",
       "      <td>55000</td>\n",
       "      <td>cvs</td>\n",
       "    </tr>\n",
       "    <tr>\n",
       "      <td>679893</td>\n",
       "      <td>2019-08-31 16:59:50.465</td>\n",
       "      <td>7182989997794106803</td>\n",
       "      <td>7435641053063427914</td>\n",
       "      <td>3381320566892266107</td>\n",
       "      <td>31000</td>\n",
       "      <td>cvs</td>\n",
       "    </tr>\n",
       "  </tbody>\n",
       "</table>\n",
       "<p>1008720 rows × 6 columns</p>\n",
       "</div>"
      ],
      "text/plain": [
       "                     timestamp              user_id           service_id  \\\n",
       "486868 2019-07-31 17:00:39.618  6999581588594699050  7241075282237721387   \n",
       "17847  2019-07-31 17:00:39.618  7293786319251451286  2976045368419517725   \n",
       "656801 2019-07-31 17:00:45.023  4320011930735144769  7241075282237721387   \n",
       "892511 2019-07-31 17:00:45.023  1348116226867379701  5118073894352076666   \n",
       "337481 2019-07-31 17:00:45.023  3915875167744147029  4730332944869925968   \n",
       "...                        ...                  ...                  ...   \n",
       "676071 2019-08-31 16:58:47.262  7151211157479363488  7549210150399079702   \n",
       "814380 2019-08-31 16:58:47.262  8225380512973076942  7435641053063427914   \n",
       "687038 2019-08-31 16:59:40.088  2050835819433442914  7241075282237721387   \n",
       "952723 2019-08-31 16:59:41.480   967483949277839142  7435641053063427914   \n",
       "679893 2019-08-31 16:59:50.465  7182989997794106803  7435641053063427914   \n",
       "\n",
       "                   store_id  amount service_group  \n",
       "486868  1712443322607324267  140000           cvs  \n",
       "17847   4233306449914465238  215000          food  \n",
       "656801  1712443322607324267   10000           cvs  \n",
       "892511  4478031251223671327   46000           fnb  \n",
       "337481  9016913884991478105  117000      beverage  \n",
       "...                     ...     ...           ...  \n",
       "676071  3181081454660562065   31000           fnb  \n",
       "814380  3381320566892266107   27000           cvs  \n",
       "687038  1712443322607324267   20000           cvs  \n",
       "952723  3381320566892266107   55000           cvs  \n",
       "679893  3381320566892266107   31000           cvs  \n",
       "\n",
       "[1008720 rows x 6 columns]"
      ]
     },
     "execution_count": 140,
     "metadata": {
      "tags": []
     },
     "output_type": "execute_result"
    }
   ],
   "source": [
    "transaction.timestamp = pd.to_datetime(transaction.timestamp,unit=\"ms\")\n",
    "transaction.sort_values(by=[\"timestamp\"],inplace = True)\n",
    "transaction"
   ]
  },
  {
   "cell_type": "code",
   "execution_count": 0,
   "metadata": {
    "colab": {},
    "colab_type": "code",
    "id": "fxYyQFB7qDMy",
    "outputId": "e0939a05-3b03-4d27-e46f-856a7a0634e2"
   },
   "outputs": [
    {
     "data": {
      "text/html": [
       "<div>\n",
       "<style scoped>\n",
       "    .dataframe tbody tr th:only-of-type {\n",
       "        vertical-align: middle;\n",
       "    }\n",
       "\n",
       "    .dataframe tbody tr th {\n",
       "        vertical-align: top;\n",
       "    }\n",
       "\n",
       "    .dataframe thead th {\n",
       "        text-align: right;\n",
       "    }\n",
       "</style>\n",
       "<table border=\"1\" class=\"dataframe\">\n",
       "  <thead>\n",
       "    <tr style=\"text-align: right;\">\n",
       "      <th></th>\n",
       "      <th>day</th>\n",
       "      <th>month</th>\n",
       "      <th>year</th>\n",
       "    </tr>\n",
       "  </thead>\n",
       "  <tbody>\n",
       "    <tr>\n",
       "      <td>0</td>\n",
       "      <td>31</td>\n",
       "      <td>7</td>\n",
       "      <td>2019</td>\n",
       "    </tr>\n",
       "    <tr>\n",
       "      <td>1</td>\n",
       "      <td>31</td>\n",
       "      <td>7</td>\n",
       "      <td>2019</td>\n",
       "    </tr>\n",
       "    <tr>\n",
       "      <td>2</td>\n",
       "      <td>31</td>\n",
       "      <td>7</td>\n",
       "      <td>2019</td>\n",
       "    </tr>\n",
       "    <tr>\n",
       "      <td>3</td>\n",
       "      <td>31</td>\n",
       "      <td>7</td>\n",
       "      <td>2019</td>\n",
       "    </tr>\n",
       "    <tr>\n",
       "      <td>4</td>\n",
       "      <td>31</td>\n",
       "      <td>7</td>\n",
       "      <td>2019</td>\n",
       "    </tr>\n",
       "    <tr>\n",
       "      <td>...</td>\n",
       "      <td>...</td>\n",
       "      <td>...</td>\n",
       "      <td>...</td>\n",
       "    </tr>\n",
       "    <tr>\n",
       "      <td>1008715</td>\n",
       "      <td>31</td>\n",
       "      <td>8</td>\n",
       "      <td>2019</td>\n",
       "    </tr>\n",
       "    <tr>\n",
       "      <td>1008716</td>\n",
       "      <td>31</td>\n",
       "      <td>8</td>\n",
       "      <td>2019</td>\n",
       "    </tr>\n",
       "    <tr>\n",
       "      <td>1008717</td>\n",
       "      <td>31</td>\n",
       "      <td>8</td>\n",
       "      <td>2019</td>\n",
       "    </tr>\n",
       "    <tr>\n",
       "      <td>1008718</td>\n",
       "      <td>31</td>\n",
       "      <td>8</td>\n",
       "      <td>2019</td>\n",
       "    </tr>\n",
       "    <tr>\n",
       "      <td>1008719</td>\n",
       "      <td>31</td>\n",
       "      <td>8</td>\n",
       "      <td>2019</td>\n",
       "    </tr>\n",
       "  </tbody>\n",
       "</table>\n",
       "<p>1008720 rows × 3 columns</p>\n",
       "</div>"
      ],
      "text/plain": [
       "         day  month  year\n",
       "0         31      7  2019\n",
       "1         31      7  2019\n",
       "2         31      7  2019\n",
       "3         31      7  2019\n",
       "4         31      7  2019\n",
       "...      ...    ...   ...\n",
       "1008715   31      8  2019\n",
       "1008716   31      8  2019\n",
       "1008717   31      8  2019\n",
       "1008718   31      8  2019\n",
       "1008719   31      8  2019\n",
       "\n",
       "[1008720 rows x 3 columns]"
      ]
     },
     "execution_count": 3,
     "metadata": {
      "tags": []
     },
     "output_type": "execute_result"
    }
   ],
   "source": [
    "temp = pd.DataFrame(columns = [\"day\",\"month\",\"year\"])\n",
    "temp.year = transaction.timestamp.dt.year\n",
    "temp.month = transaction.timestamp.dt.month\n",
    "temp.day = transaction.timestamp.dt.day\n",
    "temp"
   ]
  },
  {
   "cell_type": "code",
   "execution_count": 0,
   "metadata": {
    "colab": {},
    "colab_type": "code",
    "id": "781T1Lh9qDNM",
    "outputId": "e4ea1016-5f45-4016-b933-4b51c32d9680"
   },
   "outputs": [
    {
     "data": {
      "text/html": [
       "<div>\n",
       "<style scoped>\n",
       "    .dataframe tbody tr th:only-of-type {\n",
       "        vertical-align: middle;\n",
       "    }\n",
       "\n",
       "    .dataframe tbody tr th {\n",
       "        vertical-align: top;\n",
       "    }\n",
       "\n",
       "    .dataframe thead th {\n",
       "        text-align: right;\n",
       "    }\n",
       "</style>\n",
       "<table border=\"1\" class=\"dataframe\">\n",
       "  <thead>\n",
       "    <tr style=\"text-align: right;\">\n",
       "      <th></th>\n",
       "      <th>timestamp</th>\n",
       "      <th>user_id</th>\n",
       "      <th>service_id</th>\n",
       "      <th>store_id</th>\n",
       "      <th>amount</th>\n",
       "      <th>service_group</th>\n",
       "      <th>Time</th>\n",
       "    </tr>\n",
       "  </thead>\n",
       "  <tbody>\n",
       "    <tr>\n",
       "      <td>0</td>\n",
       "      <td>2019-07-31 17:00:39.618</td>\n",
       "      <td>6999581588594699050</td>\n",
       "      <td>7241075282237721387</td>\n",
       "      <td>1712443322607324267</td>\n",
       "      <td>140000</td>\n",
       "      <td>cvs</td>\n",
       "      <td>2019-07-31</td>\n",
       "    </tr>\n",
       "    <tr>\n",
       "      <td>1</td>\n",
       "      <td>2019-07-31 17:00:39.618</td>\n",
       "      <td>7293786319251451286</td>\n",
       "      <td>2976045368419517725</td>\n",
       "      <td>4233306449914465238</td>\n",
       "      <td>215000</td>\n",
       "      <td>food</td>\n",
       "      <td>2019-07-31</td>\n",
       "    </tr>\n",
       "    <tr>\n",
       "      <td>2</td>\n",
       "      <td>2019-07-31 17:00:45.023</td>\n",
       "      <td>4320011930735144769</td>\n",
       "      <td>7241075282237721387</td>\n",
       "      <td>1712443322607324267</td>\n",
       "      <td>10000</td>\n",
       "      <td>cvs</td>\n",
       "      <td>2019-07-31</td>\n",
       "    </tr>\n",
       "    <tr>\n",
       "      <td>3</td>\n",
       "      <td>2019-07-31 17:00:45.023</td>\n",
       "      <td>1348116226867379701</td>\n",
       "      <td>5118073894352076666</td>\n",
       "      <td>4478031251223671327</td>\n",
       "      <td>46000</td>\n",
       "      <td>fnb</td>\n",
       "      <td>2019-07-31</td>\n",
       "    </tr>\n",
       "    <tr>\n",
       "      <td>4</td>\n",
       "      <td>2019-07-31 17:00:45.023</td>\n",
       "      <td>3915875167744147029</td>\n",
       "      <td>4730332944869925968</td>\n",
       "      <td>9016913884991478105</td>\n",
       "      <td>117000</td>\n",
       "      <td>beverage</td>\n",
       "      <td>2019-07-31</td>\n",
       "    </tr>\n",
       "    <tr>\n",
       "      <td>...</td>\n",
       "      <td>...</td>\n",
       "      <td>...</td>\n",
       "      <td>...</td>\n",
       "      <td>...</td>\n",
       "      <td>...</td>\n",
       "      <td>...</td>\n",
       "      <td>...</td>\n",
       "    </tr>\n",
       "    <tr>\n",
       "      <td>1008715</td>\n",
       "      <td>2019-08-31 16:58:47.262</td>\n",
       "      <td>7151211157479363488</td>\n",
       "      <td>7549210150399079702</td>\n",
       "      <td>3181081454660562065</td>\n",
       "      <td>31000</td>\n",
       "      <td>fnb</td>\n",
       "      <td>2019-08-31</td>\n",
       "    </tr>\n",
       "    <tr>\n",
       "      <td>1008716</td>\n",
       "      <td>2019-08-31 16:58:47.262</td>\n",
       "      <td>8225380512973076942</td>\n",
       "      <td>7435641053063427914</td>\n",
       "      <td>3381320566892266107</td>\n",
       "      <td>27000</td>\n",
       "      <td>cvs</td>\n",
       "      <td>2019-08-31</td>\n",
       "    </tr>\n",
       "    <tr>\n",
       "      <td>1008717</td>\n",
       "      <td>2019-08-31 16:59:40.088</td>\n",
       "      <td>2050835819433442914</td>\n",
       "      <td>7241075282237721387</td>\n",
       "      <td>1712443322607324267</td>\n",
       "      <td>20000</td>\n",
       "      <td>cvs</td>\n",
       "      <td>2019-08-31</td>\n",
       "    </tr>\n",
       "    <tr>\n",
       "      <td>1008718</td>\n",
       "      <td>2019-08-31 16:59:41.480</td>\n",
       "      <td>967483949277839142</td>\n",
       "      <td>7435641053063427914</td>\n",
       "      <td>3381320566892266107</td>\n",
       "      <td>55000</td>\n",
       "      <td>cvs</td>\n",
       "      <td>2019-08-31</td>\n",
       "    </tr>\n",
       "    <tr>\n",
       "      <td>1008719</td>\n",
       "      <td>2019-08-31 16:59:50.465</td>\n",
       "      <td>7182989997794106803</td>\n",
       "      <td>7435641053063427914</td>\n",
       "      <td>3381320566892266107</td>\n",
       "      <td>31000</td>\n",
       "      <td>cvs</td>\n",
       "      <td>2019-08-31</td>\n",
       "    </tr>\n",
       "  </tbody>\n",
       "</table>\n",
       "<p>1008720 rows × 7 columns</p>\n",
       "</div>"
      ],
      "text/plain": [
       "                      timestamp              user_id           service_id  \\\n",
       "0       2019-07-31 17:00:39.618  6999581588594699050  7241075282237721387   \n",
       "1       2019-07-31 17:00:39.618  7293786319251451286  2976045368419517725   \n",
       "2       2019-07-31 17:00:45.023  4320011930735144769  7241075282237721387   \n",
       "3       2019-07-31 17:00:45.023  1348116226867379701  5118073894352076666   \n",
       "4       2019-07-31 17:00:45.023  3915875167744147029  4730332944869925968   \n",
       "...                         ...                  ...                  ...   \n",
       "1008715 2019-08-31 16:58:47.262  7151211157479363488  7549210150399079702   \n",
       "1008716 2019-08-31 16:58:47.262  8225380512973076942  7435641053063427914   \n",
       "1008717 2019-08-31 16:59:40.088  2050835819433442914  7241075282237721387   \n",
       "1008718 2019-08-31 16:59:41.480   967483949277839142  7435641053063427914   \n",
       "1008719 2019-08-31 16:59:50.465  7182989997794106803  7435641053063427914   \n",
       "\n",
       "                    store_id  amount service_group       Time  \n",
       "0        1712443322607324267  140000           cvs 2019-07-31  \n",
       "1        4233306449914465238  215000          food 2019-07-31  \n",
       "2        1712443322607324267   10000           cvs 2019-07-31  \n",
       "3        4478031251223671327   46000           fnb 2019-07-31  \n",
       "4        9016913884991478105  117000      beverage 2019-07-31  \n",
       "...                      ...     ...           ...        ...  \n",
       "1008715  3181081454660562065   31000           fnb 2019-08-31  \n",
       "1008716  3381320566892266107   27000           cvs 2019-08-31  \n",
       "1008717  1712443322607324267   20000           cvs 2019-08-31  \n",
       "1008718  3381320566892266107   55000           cvs 2019-08-31  \n",
       "1008719  3381320566892266107   31000           cvs 2019-08-31  \n",
       "\n",
       "[1008720 rows x 7 columns]"
      ]
     },
     "execution_count": 5,
     "metadata": {
      "tags": []
     },
     "output_type": "execute_result"
    }
   ],
   "source": [
    "transaction[\"Time\"] = pd.to_datetime(temp)\n",
    "transaction"
   ]
  },
  {
   "cell_type": "code",
   "execution_count": 0,
   "metadata": {
    "colab": {},
    "colab_type": "code",
    "id": "S6F5_AD3qDNV"
   },
   "outputs": [],
   "source": [
    "transaction.drop(columns = \"Time\",inplace = True)\n",
    "transaction.service_id = transaction.service_id.astype(str)\n",
    "transaction.store_id = transaction.store_id.astype(str)\n",
    "transaction.timestamp = transaction.timestamp.astype(str)\n",
    "transaction.user_id = transaction.user_id.astype(str)\n",
    "transaction.to_csv(\"new_transaction.csv\",encoding = \"utf-8\",index= False)"
   ]
  },
  {
   "cell_type": "code",
   "execution_count": 0,
   "metadata": {
    "colab": {},
    "colab_type": "code",
    "id": "fBZL5NN-qDOD"
   },
   "outputs": [],
   "source": [
    "transaction_food = transaction[transaction.service_group == \"food\"]\n",
    "transaction_cvs = transaction[transaction.service_group == \"cvs\"]\n",
    "transaction_supermarket = transaction[transaction.service_group == \"supermarket\"]\n",
    "transaction_shopping = transaction[transaction.service_group == \"shopping\"]\n",
    "transaction_other = transaction[transaction.service_group == \"other\"]\n",
    "\n",
    "plot_data_food = transaction_food.groupby(\"Time\").count()\n",
    "plot_data_cvs = transaction_cvs.groupby(\"Time\").count()\n",
    "plot_data_supermarket = transaction_supermarket.groupby(\"Time\").count()\n",
    "plot_data_shopping = transaction_shopping.groupby(\"Time\").count()\n",
    "plot_data_other = transaction_other.groupby(\"Time\").count()"
   ]
  },
  {
   "cell_type": "code",
   "execution_count": 0,
   "metadata": {
    "colab": {},
    "colab_type": "code",
    "id": "COYtl0TzqDOM"
   },
   "outputs": [],
   "source": [
    "plot_data_food.service_group = \"food\"\n",
    "plot_data_cvs.service_group = \"cvs\"\n",
    "plot_data_supermarket.service_group = \"supermarket\"\n",
    "plot_data_shopping.service_group = \"shopping\"\n",
    "plot_data_other.service_group = \"other\"\n",
    "plot_data_beverage.service_group = \"beverage\""
   ]
  },
  {
   "cell_type": "code",
   "execution_count": 0,
   "metadata": {
    "colab": {},
    "colab_type": "code",
    "id": "tPsMhEaEqDOb",
    "outputId": "06e849d3-3102-4e98-d8e5-5e1a472f1642",
    "scrolled": true
   },
   "outputs": [
    {
     "data": {
      "text/html": [
       "<div>\n",
       "<style scoped>\n",
       "    .dataframe tbody tr th:only-of-type {\n",
       "        vertical-align: middle;\n",
       "    }\n",
       "\n",
       "    .dataframe tbody tr th {\n",
       "        vertical-align: top;\n",
       "    }\n",
       "\n",
       "    .dataframe thead th {\n",
       "        text-align: right;\n",
       "    }\n",
       "</style>\n",
       "<table border=\"1\" class=\"dataframe\">\n",
       "  <thead>\n",
       "    <tr style=\"text-align: right;\">\n",
       "      <th></th>\n",
       "      <th>timestamp</th>\n",
       "      <th>user_id</th>\n",
       "      <th>service_id</th>\n",
       "      <th>store_id</th>\n",
       "      <th>amount</th>\n",
       "      <th>service_group</th>\n",
       "    </tr>\n",
       "    <tr>\n",
       "      <th>Time</th>\n",
       "      <th></th>\n",
       "      <th></th>\n",
       "      <th></th>\n",
       "      <th></th>\n",
       "      <th></th>\n",
       "      <th></th>\n",
       "    </tr>\n",
       "  </thead>\n",
       "  <tbody>\n",
       "    <tr>\n",
       "      <td>07-31</td>\n",
       "      <td>489</td>\n",
       "      <td>489</td>\n",
       "      <td>489</td>\n",
       "      <td>489</td>\n",
       "      <td>489</td>\n",
       "      <td>489</td>\n",
       "    </tr>\n",
       "    <tr>\n",
       "      <td>08-01</td>\n",
       "      <td>17308</td>\n",
       "      <td>17308</td>\n",
       "      <td>17308</td>\n",
       "      <td>17308</td>\n",
       "      <td>17308</td>\n",
       "      <td>17308</td>\n",
       "    </tr>\n",
       "    <tr>\n",
       "      <td>08-02</td>\n",
       "      <td>27748</td>\n",
       "      <td>27748</td>\n",
       "      <td>27748</td>\n",
       "      <td>27748</td>\n",
       "      <td>27748</td>\n",
       "      <td>27748</td>\n",
       "    </tr>\n",
       "    <tr>\n",
       "      <td>08-03</td>\n",
       "      <td>25262</td>\n",
       "      <td>25262</td>\n",
       "      <td>25262</td>\n",
       "      <td>25262</td>\n",
       "      <td>25262</td>\n",
       "      <td>25262</td>\n",
       "    </tr>\n",
       "    <tr>\n",
       "      <td>08-04</td>\n",
       "      <td>12310</td>\n",
       "      <td>12310</td>\n",
       "      <td>12310</td>\n",
       "      <td>12310</td>\n",
       "      <td>12310</td>\n",
       "      <td>12310</td>\n",
       "    </tr>\n",
       "  </tbody>\n",
       "</table>\n",
       "</div>"
      ],
      "text/plain": [
       "       timestamp  user_id  service_id  store_id  amount  service_group\n",
       "Time                                                                  \n",
       "07-31        489      489         489       489     489            489\n",
       "08-01      17308    17308       17308     17308   17308          17308\n",
       "08-02      27748    27748       27748     27748   27748          27748\n",
       "08-03      25262    25262       25262     25262   25262          25262\n",
       "08-04      12310    12310       12310     12310   12310          12310"
      ]
     },
     "execution_count": 11,
     "metadata": {
      "tags": []
     },
     "output_type": "execute_result"
    }
   ],
   "source": [
    "transaction_beverage = pd.concat([transaction[transaction.service_group == \"beverage\"],transaction[transaction.service_group == \"fnb\"]],ignore_index=True)\n",
    "plot_data_beverage = transaction_beverage.groupby(\"Time\").count()\n",
    "plot_data_beverage.head()"
   ]
  },
  {
   "cell_type": "code",
   "execution_count": 0,
   "metadata": {
    "colab": {},
    "colab_type": "code",
    "id": "Y1qaxencqDO6",
    "outputId": "db9a2493-7487-4c5b-ecf0-63a076e55dd1"
   },
   "outputs": [
    {
     "data": {
      "text/html": [
       "<div>\n",
       "<style scoped>\n",
       "    .dataframe tbody tr th:only-of-type {\n",
       "        vertical-align: middle;\n",
       "    }\n",
       "\n",
       "    .dataframe tbody tr th {\n",
       "        vertical-align: top;\n",
       "    }\n",
       "\n",
       "    .dataframe thead th {\n",
       "        text-align: right;\n",
       "    }\n",
       "</style>\n",
       "<table border=\"1\" class=\"dataframe\">\n",
       "  <thead>\n",
       "    <tr style=\"text-align: right;\">\n",
       "      <th></th>\n",
       "      <th>timestamp</th>\n",
       "      <th>user_id</th>\n",
       "      <th>service_id</th>\n",
       "      <th>store_id</th>\n",
       "      <th>amount</th>\n",
       "      <th>service_group</th>\n",
       "    </tr>\n",
       "    <tr>\n",
       "      <th>Time</th>\n",
       "      <th></th>\n",
       "      <th></th>\n",
       "      <th></th>\n",
       "      <th></th>\n",
       "      <th></th>\n",
       "      <th></th>\n",
       "    </tr>\n",
       "  </thead>\n",
       "  <tbody>\n",
       "    <tr>\n",
       "      <td>08-31</td>\n",
       "      <td>14899</td>\n",
       "      <td>14899</td>\n",
       "      <td>14899</td>\n",
       "      <td>14899</td>\n",
       "      <td>14899</td>\n",
       "      <td>beverage</td>\n",
       "    </tr>\n",
       "    <tr>\n",
       "      <td>07-31</td>\n",
       "      <td>489</td>\n",
       "      <td>489</td>\n",
       "      <td>489</td>\n",
       "      <td>489</td>\n",
       "      <td>489</td>\n",
       "      <td>beverage</td>\n",
       "    </tr>\n",
       "    <tr>\n",
       "      <td>08-01</td>\n",
       "      <td>17308</td>\n",
       "      <td>17308</td>\n",
       "      <td>17308</td>\n",
       "      <td>17308</td>\n",
       "      <td>17308</td>\n",
       "      <td>beverage</td>\n",
       "    </tr>\n",
       "    <tr>\n",
       "      <td>08-02</td>\n",
       "      <td>27748</td>\n",
       "      <td>27748</td>\n",
       "      <td>27748</td>\n",
       "      <td>27748</td>\n",
       "      <td>27748</td>\n",
       "      <td>beverage</td>\n",
       "    </tr>\n",
       "    <tr>\n",
       "      <td>08-03</td>\n",
       "      <td>25262</td>\n",
       "      <td>25262</td>\n",
       "      <td>25262</td>\n",
       "      <td>25262</td>\n",
       "      <td>25262</td>\n",
       "      <td>beverage</td>\n",
       "    </tr>\n",
       "    <tr>\n",
       "      <td>...</td>\n",
       "      <td>...</td>\n",
       "      <td>...</td>\n",
       "      <td>...</td>\n",
       "      <td>...</td>\n",
       "      <td>...</td>\n",
       "      <td>...</td>\n",
       "    </tr>\n",
       "    <tr>\n",
       "      <td>08-27</td>\n",
       "      <td>1273</td>\n",
       "      <td>1273</td>\n",
       "      <td>1273</td>\n",
       "      <td>1273</td>\n",
       "      <td>1273</td>\n",
       "      <td>supermarket</td>\n",
       "    </tr>\n",
       "    <tr>\n",
       "      <td>08-28</td>\n",
       "      <td>712</td>\n",
       "      <td>712</td>\n",
       "      <td>712</td>\n",
       "      <td>712</td>\n",
       "      <td>712</td>\n",
       "      <td>supermarket</td>\n",
       "    </tr>\n",
       "    <tr>\n",
       "      <td>08-29</td>\n",
       "      <td>606</td>\n",
       "      <td>606</td>\n",
       "      <td>606</td>\n",
       "      <td>606</td>\n",
       "      <td>606</td>\n",
       "      <td>supermarket</td>\n",
       "    </tr>\n",
       "    <tr>\n",
       "      <td>08-16</td>\n",
       "      <td>1402</td>\n",
       "      <td>1402</td>\n",
       "      <td>1402</td>\n",
       "      <td>1402</td>\n",
       "      <td>1402</td>\n",
       "      <td>supermarket</td>\n",
       "    </tr>\n",
       "    <tr>\n",
       "      <td>08-31</td>\n",
       "      <td>552</td>\n",
       "      <td>552</td>\n",
       "      <td>552</td>\n",
       "      <td>552</td>\n",
       "      <td>552</td>\n",
       "      <td>supermarket</td>\n",
       "    </tr>\n",
       "  </tbody>\n",
       "</table>\n",
       "<p>192 rows × 6 columns</p>\n",
       "</div>"
      ],
      "text/plain": [
       "       timestamp  user_id  service_id  store_id  amount service_group\n",
       "Time                                                                 \n",
       "08-31      14899    14899       14899     14899   14899      beverage\n",
       "07-31        489      489         489       489     489      beverage\n",
       "08-01      17308    17308       17308     17308   17308      beverage\n",
       "08-02      27748    27748       27748     27748   27748      beverage\n",
       "08-03      25262    25262       25262     25262   25262      beverage\n",
       "...          ...      ...         ...       ...     ...           ...\n",
       "08-27       1273     1273        1273      1273    1273   supermarket\n",
       "08-28        712      712         712       712     712   supermarket\n",
       "08-29        606      606         606       606     606   supermarket\n",
       "08-16       1402     1402        1402      1402    1402   supermarket\n",
       "08-31        552      552         552       552     552   supermarket\n",
       "\n",
       "[192 rows x 6 columns]"
      ]
     },
     "execution_count": 88,
     "metadata": {
      "tags": []
     },
     "output_type": "execute_result"
    }
   ],
   "source": [
    "plot_data = pd.concat([plot_data_food,plot_data_cvs,plot_data_supermarket,plot_data_shopping,plot_data_other,plot_data_beverage])\n",
    "plot_data.sort_values(by=[\"service_group\"],inplace = True)\n",
    "plot_data"
   ]
  },
  {
   "cell_type": "code",
   "execution_count": 0,
   "metadata": {
    "colab": {},
    "colab_type": "code",
    "id": "U1a-yL_gqDPD",
    "outputId": "0c6f7f3f-9707-4472-8493-972c2f5f2832"
   },
   "outputs": [
    {
     "data": {
      "text/plain": [
       "Text(0, 0.5, 'Count')"
      ]
     },
     "execution_count": 89,
     "metadata": {
      "tags": []
     },
     "output_type": "execute_result"
    },
    {
     "data": {
      "image/png": "[encoded data removed]",
      "text/plain": [
       "<Figure size 1440x720 with 1 Axes>"
      ]
     },
     "metadata": {
      "tags": []
     },
     "output_type": "display_data"
    }
   ],
   "source": [
    "plt.figure(figsize=(20,10))\n",
    "plt.xticks(rotation=35)\n",
    "plt.title('TRANSACTION COUNTS OF SOME SERVICE GROUPS',fontdict = {'fontsize': 25,'fontweight': 'bold','verticalalignment': 'baseline',\n",
    "                                                  'horizontalalignment':\"center\",'verticalalignment':\"top\"})\n",
    "\n",
    "sns.set_style(\"whitegrid\", {'axes.grid' : False})\n",
    "b=sns.lineplot(x=plot_data.index,y=\"amount\",hue = \"service_group\",data=plot_data,color=\"coral\",markers=True,\n",
    "            lw=3.5)\n",
    "\n",
    "b.set_xlabel(\"Time\",fontsize=27)\n",
    "b.set_ylabel(\"Count\",fontsize=27)"
   ]
  },
  {
   "cell_type": "markdown",
   "metadata": {},
   "source": [
    "Ta có thể đưa ra nhận xét rằng beverage vẫn chiếm đa số trong các ngành hàng trong toàn bộ timeline. Nhưng mà tuy nhiên, số giao dịch nhiều nhưng giao dịch với số tiền bao nhiêu?"
   ]
  },
  {
   "cell_type": "markdown",
   "metadata": {},
   "source": [
    "### Xem xét từng ngành hàng theo doanh số bán hàng"
   ]
  },
  {
   "cell_type": "code",
   "execution_count": 0,
   "metadata": {
    "colab": {},
    "colab_type": "code",
    "id": "NlE10irRqDPK"
   },
   "outputs": [],
   "source": [
    "transaction_food = transaction[transaction.service_group == \"food\"]\n",
    "transaction_cvs = transaction[transaction.service_group == \"cvs\"]\n",
    "transaction_supermarket = transaction[transaction.service_group == \"supermarket\"]\n",
    "transaction_shopping = transaction[transaction.service_group == \"shopping\"]\n",
    "transaction_other = transaction[transaction.service_group == \"other\"]\n",
    "\n",
    "plot_data_food = transaction_food.groupby(\"Time\").sum()\n",
    "plot_data_cvs = transaction_cvs.groupby(\"Time\").sum()\n",
    "plot_data_supermarket = transaction_supermarket.groupby(\"Time\").sum()\n",
    "plot_data_shopping = transaction_shopping.groupby(\"Time\").sum()\n",
    "plot_data_other = transaction_other.groupby(\"Time\").sum()"
   ]
  },
  {
   "cell_type": "code",
   "execution_count": 0,
   "metadata": {
    "colab": {},
    "colab_type": "code",
    "id": "aU8fdTirqDPU",
    "outputId": "cc83ddd3-6293-4c5f-e1bc-eef298c2990b"
   },
   "outputs": [
    {
     "data": {
      "text/html": [
       "<div>\n",
       "<style scoped>\n",
       "    .dataframe tbody tr th:only-of-type {\n",
       "        vertical-align: middle;\n",
       "    }\n",
       "\n",
       "    .dataframe tbody tr th {\n",
       "        vertical-align: top;\n",
       "    }\n",
       "\n",
       "    .dataframe thead th {\n",
       "        text-align: right;\n",
       "    }\n",
       "</style>\n",
       "<table border=\"1\" class=\"dataframe\">\n",
       "  <thead>\n",
       "    <tr style=\"text-align: right;\">\n",
       "      <th></th>\n",
       "      <th>user_id</th>\n",
       "      <th>service_id</th>\n",
       "      <th>store_id</th>\n",
       "      <th>amount</th>\n",
       "    </tr>\n",
       "    <tr>\n",
       "      <th>Time</th>\n",
       "      <th></th>\n",
       "      <th></th>\n",
       "      <th></th>\n",
       "      <th></th>\n",
       "    </tr>\n",
       "  </thead>\n",
       "  <tbody>\n",
       "    <tr>\n",
       "      <td>07-31</td>\n",
       "      <td>2.304817e+21</td>\n",
       "      <td>2.249525e+21</td>\n",
       "      <td>2.265074e+21</td>\n",
       "      <td>1.773050e+08</td>\n",
       "    </tr>\n",
       "    <tr>\n",
       "      <td>08-01</td>\n",
       "      <td>7.977858e+22</td>\n",
       "      <td>8.218744e+22</td>\n",
       "      <td>8.298088e+22</td>\n",
       "      <td>6.580689e+09</td>\n",
       "    </tr>\n",
       "    <tr>\n",
       "      <td>08-02</td>\n",
       "      <td>1.279920e+23</td>\n",
       "      <td>1.311410e+23</td>\n",
       "      <td>1.323638e+23</td>\n",
       "      <td>1.103566e+10</td>\n",
       "    </tr>\n",
       "    <tr>\n",
       "      <td>08-03</td>\n",
       "      <td>1.158746e+23</td>\n",
       "      <td>1.193909e+23</td>\n",
       "      <td>1.202135e+23</td>\n",
       "      <td>9.895405e+09</td>\n",
       "    </tr>\n",
       "    <tr>\n",
       "      <td>08-04</td>\n",
       "      <td>5.650144e+22</td>\n",
       "      <td>5.920991e+22</td>\n",
       "      <td>6.030370e+22</td>\n",
       "      <td>4.105184e+09</td>\n",
       "    </tr>\n",
       "  </tbody>\n",
       "</table>\n",
       "</div>"
      ],
      "text/plain": [
       "            user_id    service_id      store_id        amount\n",
       "Time                                                         \n",
       "07-31  2.304817e+21  2.249525e+21  2.265074e+21  1.773050e+08\n",
       "08-01  7.977858e+22  8.218744e+22  8.298088e+22  6.580689e+09\n",
       "08-02  1.279920e+23  1.311410e+23  1.323638e+23  1.103566e+10\n",
       "08-03  1.158746e+23  1.193909e+23  1.202135e+23  9.895405e+09\n",
       "08-04  5.650144e+22  5.920991e+22  6.030370e+22  4.105184e+09"
      ]
     },
     "execution_count": 97,
     "metadata": {
      "tags": []
     },
     "output_type": "execute_result"
    }
   ],
   "source": [
    "transaction_beverage = pd.concat([transaction[transaction.service_group == \"beverage\"],transaction[transaction.service_group == \"fnb\"]],ignore_index=True)\n",
    "plot_data_beverage = transaction_beverage.groupby(\"Time\").sum()\n",
    "plot_data_beverage.head()"
   ]
  },
  {
   "cell_type": "code",
   "execution_count": 0,
   "metadata": {
    "colab": {},
    "colab_type": "code",
    "id": "Pg7Y4kOJqDPf"
   },
   "outputs": [],
   "source": [
    "plot_data_food[\"service_group\"] = \"food\"\n",
    "plot_data_cvs[\"service_group\"] = \"cvs\"\n",
    "plot_data_supermarket[\"service_group\"] = \"supermarket\"\n",
    "plot_data_shopping[\"service_group\"] = \"shopping\"\n",
    "plot_data_other[\"service_group\"] = \"other\"\n",
    "plot_data_beverage[\"service_group\"] = \"beverage\""
   ]
  },
  {
   "cell_type": "code",
   "execution_count": 0,
   "metadata": {
    "colab": {},
    "colab_type": "code",
    "id": "E6b6Ph3wqDPx",
    "outputId": "04c15101-7e02-4445-c36b-4cf3eb99d2f8"
   },
   "outputs": [
    {
     "data": {
      "text/html": [
       "<div>\n",
       "<style scoped>\n",
       "    .dataframe tbody tr th:only-of-type {\n",
       "        vertical-align: middle;\n",
       "    }\n",
       "\n",
       "    .dataframe tbody tr th {\n",
       "        vertical-align: top;\n",
       "    }\n",
       "\n",
       "    .dataframe thead th {\n",
       "        text-align: right;\n",
       "    }\n",
       "</style>\n",
       "<table border=\"1\" class=\"dataframe\">\n",
       "  <thead>\n",
       "    <tr style=\"text-align: right;\">\n",
       "      <th></th>\n",
       "      <th>user_id</th>\n",
       "      <th>service_id</th>\n",
       "      <th>store_id</th>\n",
       "      <th>amount</th>\n",
       "      <th>service_group</th>\n",
       "    </tr>\n",
       "    <tr>\n",
       "      <th>Time</th>\n",
       "      <th></th>\n",
       "      <th></th>\n",
       "      <th></th>\n",
       "      <th></th>\n",
       "      <th></th>\n",
       "    </tr>\n",
       "  </thead>\n",
       "  <tbody>\n",
       "    <tr>\n",
       "      <td>08-31</td>\n",
       "      <td>6.889184e+22</td>\n",
       "      <td>7.221636e+22</td>\n",
       "      <td>7.289535e+22</td>\n",
       "      <td>4.872148e+09</td>\n",
       "      <td>beverage</td>\n",
       "    </tr>\n",
       "    <tr>\n",
       "      <td>07-31</td>\n",
       "      <td>2.304817e+21</td>\n",
       "      <td>2.249525e+21</td>\n",
       "      <td>2.265074e+21</td>\n",
       "      <td>1.773050e+08</td>\n",
       "      <td>beverage</td>\n",
       "    </tr>\n",
       "    <tr>\n",
       "      <td>08-01</td>\n",
       "      <td>7.977858e+22</td>\n",
       "      <td>8.218744e+22</td>\n",
       "      <td>8.298088e+22</td>\n",
       "      <td>6.580689e+09</td>\n",
       "      <td>beverage</td>\n",
       "    </tr>\n",
       "    <tr>\n",
       "      <td>08-02</td>\n",
       "      <td>1.279920e+23</td>\n",
       "      <td>1.311410e+23</td>\n",
       "      <td>1.323638e+23</td>\n",
       "      <td>1.103566e+10</td>\n",
       "      <td>beverage</td>\n",
       "    </tr>\n",
       "    <tr>\n",
       "      <td>08-03</td>\n",
       "      <td>1.158746e+23</td>\n",
       "      <td>1.193909e+23</td>\n",
       "      <td>1.202135e+23</td>\n",
       "      <td>9.895405e+09</td>\n",
       "      <td>beverage</td>\n",
       "    </tr>\n",
       "    <tr>\n",
       "      <td>...</td>\n",
       "      <td>...</td>\n",
       "      <td>...</td>\n",
       "      <td>...</td>\n",
       "      <td>...</td>\n",
       "      <td>...</td>\n",
       "    </tr>\n",
       "    <tr>\n",
       "      <td>08-27</td>\n",
       "      <td>5.801437e+21</td>\n",
       "      <td>3.198943e+21</td>\n",
       "      <td>5.501850e+21</td>\n",
       "      <td>2.946060e+08</td>\n",
       "      <td>supermarket</td>\n",
       "    </tr>\n",
       "    <tr>\n",
       "      <td>08-28</td>\n",
       "      <td>3.229226e+21</td>\n",
       "      <td>2.519140e+21</td>\n",
       "      <td>3.302148e+21</td>\n",
       "      <td>2.098920e+08</td>\n",
       "      <td>supermarket</td>\n",
       "    </tr>\n",
       "    <tr>\n",
       "      <td>08-29</td>\n",
       "      <td>2.827578e+21</td>\n",
       "      <td>2.226767e+21</td>\n",
       "      <td>2.991353e+21</td>\n",
       "      <td>1.624570e+08</td>\n",
       "      <td>supermarket</td>\n",
       "    </tr>\n",
       "    <tr>\n",
       "      <td>08-16</td>\n",
       "      <td>6.431709e+21</td>\n",
       "      <td>3.257706e+21</td>\n",
       "      <td>6.028779e+21</td>\n",
       "      <td>3.420670e+08</td>\n",
       "      <td>supermarket</td>\n",
       "    </tr>\n",
       "    <tr>\n",
       "      <td>08-31</td>\n",
       "      <td>2.570256e+21</td>\n",
       "      <td>2.074958e+21</td>\n",
       "      <td>2.459672e+21</td>\n",
       "      <td>1.873570e+08</td>\n",
       "      <td>supermarket</td>\n",
       "    </tr>\n",
       "  </tbody>\n",
       "</table>\n",
       "<p>192 rows × 5 columns</p>\n",
       "</div>"
      ],
      "text/plain": [
       "            user_id    service_id      store_id        amount service_group\n",
       "Time                                                                       \n",
       "08-31  6.889184e+22  7.221636e+22  7.289535e+22  4.872148e+09      beverage\n",
       "07-31  2.304817e+21  2.249525e+21  2.265074e+21  1.773050e+08      beverage\n",
       "08-01  7.977858e+22  8.218744e+22  8.298088e+22  6.580689e+09      beverage\n",
       "08-02  1.279920e+23  1.311410e+23  1.323638e+23  1.103566e+10      beverage\n",
       "08-03  1.158746e+23  1.193909e+23  1.202135e+23  9.895405e+09      beverage\n",
       "...             ...           ...           ...           ...           ...\n",
       "08-27  5.801437e+21  3.198943e+21  5.501850e+21  2.946060e+08   supermarket\n",
       "08-28  3.229226e+21  2.519140e+21  3.302148e+21  2.098920e+08   supermarket\n",
       "08-29  2.827578e+21  2.226767e+21  2.991353e+21  1.624570e+08   supermarket\n",
       "08-16  6.431709e+21  3.257706e+21  6.028779e+21  3.420670e+08   supermarket\n",
       "08-31  2.570256e+21  2.074958e+21  2.459672e+21  1.873570e+08   supermarket\n",
       "\n",
       "[192 rows x 5 columns]"
      ]
     },
     "execution_count": 100,
     "metadata": {
      "tags": []
     },
     "output_type": "execute_result"
    }
   ],
   "source": [
    "plot_data = pd.concat([plot_data_food,plot_data_cvs,plot_data_supermarket,plot_data_shopping,plot_data_other,plot_data_beverage])\n",
    "plot_data.sort_values(by=[\"service_group\"],inplace = True)\n",
    "plot_data"
   ]
  },
  {
   "cell_type": "code",
   "execution_count": 0,
   "metadata": {
    "colab": {},
    "colab_type": "code",
    "id": "Twaq55UeqDQB",
    "outputId": "a5e83b77-beb5-4ccf-f0af-b347ec2de24d"
   },
   "outputs": [
    {
     "data": {
      "text/plain": [
       "Text(0, 0.5, 'Amount')"
      ]
     },
     "execution_count": 102,
     "metadata": {
      "tags": []
     },
     "output_type": "execute_result"
    },
    {
     "data": {
      "image/png": "[encoded data removed]",
      "text/plain": [
       "<Figure size 1440x720 with 1 Axes>"
      ]
     },
     "metadata": {
      "tags": []
     },
     "output_type": "display_data"
    }
   ],
   "source": [
    "plt.figure(figsize=(20,10))\n",
    "plt.xticks(rotation=35)\n",
    "plt.title('TRANSACTION AMOUNTS OF SOME SERVICE GROUPS',fontdict = {'fontsize': 25,'fontweight': 'bold','verticalalignment': 'baseline',\n",
    "                                                  'horizontalalignment':\"center\",'verticalalignment':\"top\"})\n",
    "sns.set(font_scale=1.5)\n",
    "sns.set_style(\"whitegrid\", {'axes.grid' : False})\n",
    "b=sns.lineplot(x=plot_data.index,y=\"amount\",hue = \"service_group\",data=plot_data,color=\"coral\",markers=True,\n",
    "            lw=3.5)\n",
    "\n",
    "b.set_xlabel(\"Time\",fontsize=27)\n",
    "b.set_ylabel(\"Amount\",fontsize=27)"
   ]
  },
  {
   "cell_type": "markdown",
   "metadata": {},
   "source": [
    "Tại đây, ta có thể thuyết phục rằng, beverage không những có số giao dịch nhiều nhất mà còn có doanh số bán hàng cao nhất (lên đến tỷ đồng mỗi ngày). Do đó, ta sẽ chọn hướng đi phân tích hẹp cho ngành beverage này"
   ]
  },
  {
   "cell_type": "markdown",
   "metadata": {
    "colab": {},
    "colab_type": "code",
    "id": "QG4T3SqYqDQJ"
   },
   "source": [
    "# Cuối cùng, ta đưa ra kết luận rằng, số lượng giao dịch diễn ra đối với mặt hàng beverage(nước uống) diễn ra nhiều nhất nên ta sẽ chọn việc phân tích chủ yếu về loại mặt hàng này"
   ]
  },
  {
   "cell_type": "markdown",
   "metadata": {},
   "source": [
    "Tại notebook tiếp theo, ta sẽ sử dụng dữ liệu beverage và transaction_beverage đã qua tiền xử lý để khám phá dữ liệu về ngành hàng beverage này. Về phần tiền xử lý, dữ liệu đa phần được xử lý bằng tay và một số bằng code (tốn nhiều thời gian do lượng dữ liệu lên đến 1 triệu dòng)"
   ]
  }
 ],
 "metadata": {
  "colab": {
   "name": "Handle_For_Presentation.ipynb",
   "provenance": []
  },
  "kernelspec": {
   "display_name": "Python 3",
   "language": "python",
   "name": "python3"
  },
  "language_info": {
   "codemirror_mode": {
    "name": "ipython",
    "version": 3
   },
   "file_extension": ".py",
   "mimetype": "text/x-python",
   "name": "python",
   "nbconvert_exporter": "python",
   "pygments_lexer": "ipython3",
   "version": "3.8.3"
  }
 },
 "nbformat": 4,
 "nbformat_minor": 1
}
